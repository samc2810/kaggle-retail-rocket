{
 "cells": [
  {
   "cell_type": "code",
   "execution_count": 1,
   "metadata": {},
   "outputs": [
    {
     "name": "stdout",
     "output_type": "stream",
     "text": [
      "C:\\Users\\samir\\Documents\\Python Scripts\\kaggle-retail-rocket\\notebooks\n",
      "C:\\Users\\samir\\Documents\\Python Scripts\\kaggle-retail-rocket\\notebooks/../\n"
     ]
    },
    {
     "name": "stderr",
     "output_type": "stream",
     "text": [
      "C:\\Users\\samir\\anaconda3\\envs\\retail-rocket\\lib\\site-packages\\lightfm\\_lightfm_fast.py:9: UserWarning: LightFM was compiled without OpenMP support. Only a single thread will be used.\n",
      "  warnings.warn('LightFM was compiled without OpenMP support. '\n"
     ]
    }
   ],
   "source": [
    "import numpy as np # linear algebra\n",
    "import pandas as pd # data processing, CSV file I/O (e.g. pd.read_csv)\n",
    "import sys\n",
    "\n",
    "from pathlib import Path\n",
    "# Input data files are available in the \"../input/\" directory.\n",
    "# For example, running this (by clicking run or pressing Shift+Enter) will list the files in the input directory\n",
    "\n",
    "import os\n",
    "import json\n",
    "\n",
    "\n",
    "from IPython.display import display\n",
    "import pandas_profiling\n",
    "from pandas_profiling import ProfileReport\n",
    "%matplotlib inline\n",
    "\n",
    "from lightfm import LightFM\n",
    "\n",
    "\n",
    "\n",
    "print(os.path.abspath(''))\n",
    "root_path = os.path.abspath('')+\"/../\"\n",
    "print(root_path)\n",
    "data_folder = root_path+\"/data/\"\n",
    "\n",
    "#train = data['train']\n",
    "#test = data['test']"
   ]
  },
  {
   "cell_type": "code",
   "execution_count": 2,
   "metadata": {},
   "outputs": [],
   "source": [
    "### read users interaction\n",
    "events = pd.read_csv(data_folder+\"events.csv\", header= 0)\n",
    "events_reduced = events.drop_duplicates()\n",
    "events_final = events_reduced.drop_duplicates(['visitorid', 'event', 'itemid']).copy()\n",
    "\n",
    "#events_tupel = []\n",
    "#events_final = events_reduced.sort_values(by='timestamp', ascending=True).copy()\n",
    "#events_final.loc[events_final['event'] == 'view', 'rating'] = 2\n",
    "#events_final.loc[events_final['event'] == 'addtocart', 'rating'] = 3\n",
    "#events_final.loc[events_final['event'] == 'transaction', 'rating'] = 5\n",
    "#for index, row in events_final.iterrows():\n",
    "#    events_tupel.append((row['visitorid'], row['itemid'], row['rating']))\n",
    "\n"
   ]
  },
  {
   "cell_type": "code",
   "execution_count": 14,
   "metadata": {},
   "outputs": [],
   "source": [
    "\n",
    "#with open(data_folder+'/events_rating_tupel.json', 'w') as fp:\n",
    "#    json.dump(events_tupel, fp, default=myconverter)\n",
    "events_tupel = []\n",
    "with open(data_folder+'/events_rating_tupel_1.json', 'r') as fp:\n",
    "    events_tupel = json.load(fp)"
   ]
  },
  {
   "cell_type": "code",
   "execution_count": 15,
   "metadata": {},
   "outputs": [
    {
     "name": "stdout",
     "output_type": "stream",
     "text": [
      "193066\n",
      "21451\n"
     ]
    }
   ],
   "source": [
    "#print(train)\n",
    "\n",
    "start_index = int(0.2*len(events_tupel))\n",
    "end_index = int(0.3*len(events_tupel))\n",
    "events_tupel = events_tupel[start_index:end_index]\n",
    "\n",
    "total_events = len(events_tupel)\n",
    "\n",
    "train_amt = int(0.9*total_events)\n",
    "events_train = events_tupel[:train_amt]\n",
    "events_test = events_tupel[(train_amt+1):]\n",
    "\n",
    "print(len(events_train))\n",
    "print(len(events_test))"
   ]
  },
  {
   "cell_type": "code",
   "execution_count": 16,
   "metadata": {},
   "outputs": [],
   "source": [
    "#print(test)\n",
    "from lightfm.data import Dataset\n",
    "\n",
    "dataset = Dataset(user_identity_features=False, item_identity_features=False)\n",
    "dataset.fit(events_final['visitorid'].to_numpy(), events_final['itemid'].to_numpy())\n",
    "\n",
    "(interactions_train, weights_train) = dataset.build_interactions(events_train)\n",
    "(interactions_test, weights_test) = dataset.build_interactions(events_test)\n"
   ]
  },
  {
   "cell_type": "code",
   "execution_count": 17,
   "metadata": {},
   "outputs": [
    {
     "name": "stdout",
     "output_type": "stream",
     "text": [
      "Wall time: 11.6 s\n"
     ]
    }
   ],
   "source": [
    "# Set the number of threads; you can increase this\n",
    "# if you have more physical cores available.\n",
    "NUM_THREADS = 2\n",
    "NUM_COMPONENTS = 30\n",
    "NUM_EPOCHS = 3\n",
    "ITEM_ALPHA = 1e-6\n",
    "\n",
    "# Let's fit a WARP model: these generally have the best performance.\n",
    "model_wrp = LightFM(loss='warp',\n",
    "                item_alpha=ITEM_ALPHA,\n",
    "               no_components=NUM_COMPONENTS)\n",
    "# Run epochs and time it.\n",
    "%time model_wrp = model_wrp.fit(interactions_train, epochs=NUM_EPOCHS, num_threads=NUM_THREADS)\n",
    "\n",
    " "
   ]
  },
  {
   "cell_type": "code",
   "execution_count": 18,
   "metadata": {},
   "outputs": [
    {
     "name": "stdout",
     "output_type": "stream",
     "text": [
      "Wall time: 15.2 s\n"
     ]
    }
   ],
   "source": [
    "\n",
    "# Let's fit a WARP model: these generally have the best performance.\n",
    "model_bpr = LightFM(loss='bpr',\n",
    "                item_alpha=ITEM_ALPHA,\n",
    "               no_components=NUM_COMPONENTS)\n",
    "# Run epochs and time it.\n",
    "%time model_bpr = model_bpr.fit(interactions_train, epochs=NUM_EPOCHS, num_threads=NUM_THREADS)\n"
   ]
  },
  {
   "cell_type": "code",
   "execution_count": 8,
   "metadata": {},
   "outputs": [
    {
     "name": "stdout",
     "output_type": "stream",
     "text": [
      "Wall time: 47min 1s\n",
      "Collaborative filtering train AUC: 0.9357083\n"
     ]
    }
   ],
   "source": [
    "from lightfm.evaluation import auc_score\n",
    "\n",
    "# Compute and print the AUC score\n",
    "%time train_auc = auc_score(model_wrp, interactions_train, num_threads=NUM_THREADS).mean()\n",
    "print('Collaborative filtering train AUC: %s' % train_auc)"
   ]
  },
  {
   "cell_type": "markdown",
   "metadata": {},
   "source": [
    "Wall time: 47min 1s\n",
    "Collaborative filtering train AUC: 0.9357083"
   ]
  },
  {
   "cell_type": "code",
   "execution_count": 9,
   "metadata": {},
   "outputs": [
    {
     "name": "stdout",
     "output_type": "stream",
     "text": [
      "Wall time: 13h 14min 38s\n",
      "Collaborative filtering train AUC: 0.51629496\n"
     ]
    }
   ],
   "source": [
    "\n",
    "# Compute and print the AUC score\n",
    "%time train_auc = auc_score(model_bpr, interactions_train, num_threads=NUM_THREADS).mean()\n",
    "print('Collaborative filtering train AUC: %s' % train_auc)"
   ]
  },
  {
   "cell_type": "markdown",
   "metadata": {},
   "source": [
    "Wall time: 13h 14min 38s\n",
    "Collaborative filtering train AUC: 0.51629496"
   ]
  },
  {
   "cell_type": "code",
   "execution_count": 19,
   "metadata": {},
   "outputs": [
    {
     "name": "stdout",
     "output_type": "stream",
     "text": [
      "  (114640, 64870)\t1\n",
      "  (103994, 2881)\t1\n",
      "  (114603, 63752)\t1\n",
      "  (100640, 2595)\t1\n",
      "  (103903, 60961)\t1\n",
      "  (67093, 31227)\t1\n",
      "  (111564, 1887)\t1\n",
      "  (103882, 64835)\t1\n",
      "  (111568, 63669)\t1\n",
      "  (54166, 257)\t1\n",
      "  (103861, 17245)\t1\n",
      "  (112794, 21797)\t1\n",
      "  (103941, 7804)\t1\n",
      "  (114626, 64865)\t1\n",
      "  (103973, 12770)\t1\n",
      "  (103876, 2687)\t1\n",
      "  (112905, 3457)\t1\n",
      "  (106586, 33457)\t1\n",
      "  (114569, 64844)\t1\n",
      "  (109581, 35693)\t1\n",
      "  (104042, 60997)\t1\n",
      "  (93712, 57215)\t1\n",
      "  (103928, 60967)\t1\n",
      "  (103902, 28620)\t1\n",
      "  (103998, 17297)\t1\n",
      "  :\t:\n",
      "  (138941, 73358)\t1\n",
      "  (136641, 31179)\t1\n",
      "  (137832, 4261)\t1\n",
      "  (132249, 179)\t1\n",
      "  (135411, 72122)\t1\n",
      "  (132194, 73336)\t1\n",
      "  (135386, 72117)\t1\n",
      "  (134054, 16465)\t1\n",
      "  (132269, 47526)\t1\n",
      "  (132214, 16786)\t1\n",
      "  (132296, 63959)\t1\n",
      "  (132244, 36521)\t1\n",
      "  (136656, 3976)\t1\n",
      "  (126206, 36551)\t1\n",
      "  (77125, 49929)\t1\n",
      "  (134054, 63300)\t1\n",
      "  (132295, 71171)\t1\n",
      "  (136641, 35138)\t1\n",
      "  (79194, 72107)\t1\n",
      "  (135334, 4785)\t1\n",
      "  (133958, 71655)\t1\n",
      "  (132181, 50966)\t1\n",
      "  (136723, 6899)\t1\n",
      "  (136702, 35812)\t1\n",
      "  (79194, 51141)\t1\n",
      "Wall time: 12min 25s\n",
      "Collaborative filtering train AUC: 0.7696758\n"
     ]
    }
   ],
   "source": [
    "print(interactions_test)\n",
    "# Compute and print the AUC score\n",
    "%time train_auc = auc_score(model_wrp, interactions_test, train_interactions=interactions_train, num_threads=NUM_THREADS).mean()\n",
    "print('Collaborative filtering train AUC: %s' % train_auc)"
   ]
  },
  {
   "cell_type": "markdown",
   "metadata": {},
   "source": [
    "Wall time: 12min 25s\n",
    "Collaborative filtering train AUC: 0.7696758"
   ]
  },
  {
   "cell_type": "code",
   "execution_count": 20,
   "metadata": {},
   "outputs": [
    {
     "name": "stdout",
     "output_type": "stream",
     "text": [
      "Wall time: 11min 10s\n",
      "Collaborative filtering train AUC: 0.50512016\n"
     ]
    }
   ],
   "source": [
    "\n",
    "# Compute and print the AUC score\n",
    "%time train_auc = auc_score(model_bpr, interactions_test, train_interactions=interactions_train, num_threads=NUM_THREADS).mean()\n",
    "print('Collaborative filtering train AUC: %s' % train_auc)"
   ]
  },
  {
   "cell_type": "markdown",
   "metadata": {},
   "source": [
    "Wall time: 11min 10s\n",
    "Collaborative filtering train AUC: 0.50512016"
   ]
  },
  {
   "cell_type": "code",
   "execution_count": null,
   "metadata": {},
   "outputs": [],
   "source": []
  }
 ],
 "metadata": {
  "kernelspec": {
   "display_name": "Python 3",
   "language": "python",
   "name": "python3"
  },
  "language_info": {
   "codemirror_mode": {
    "name": "ipython",
    "version": 3
   },
   "file_extension": ".py",
   "mimetype": "text/x-python",
   "name": "python",
   "nbconvert_exporter": "python",
   "pygments_lexer": "ipython3",
   "version": "3.7.7"
  }
 },
 "nbformat": 4,
 "nbformat_minor": 4
}
