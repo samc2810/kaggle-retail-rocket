{
 "cells": [
  {
   "cell_type": "markdown",
   "metadata": {},
   "source": [
    "* Inspiration from Kernels\n",
    "* https://www.kaggle.com/himansh96/eda-e-commerce-dataset\n",
    "* https://www.kaggle.com/aafrin/retail-rocket-recommender-system-for-beginners\n",
    "* https://www.kaggle.com/johnosorio/retail-rocket-ecommerce-recommender-system\n",
    "\n",
    "\n",
    "* https://towardsdatascience.com/introduction-to-recommender-systems-6c66cf15ada\n",
    "* https://towardsdatascience.com/how-to-build-a-movie-recommender-system-in-python-using-lightfm-8fa49d7cbe3b\n",
    "\n"
   ]
  },
  {
   "cell_type": "code",
   "execution_count": 1,
   "metadata": {},
   "outputs": [
    {
     "name": "stdout",
     "output_type": "stream",
     "text": [
      "['category_tree.csv', 'events.csv', 'item_properties_part1.csv', 'item_properties_part2.csv']\n"
     ]
    }
   ],
   "source": [
    "import numpy as np # linear algebra\n",
    "import pandas as pd # data processing, CSV file I/O (e.g. pd.read_csv)\n",
    "\n",
    "# Input data files are available in the \"../input/\" directory.\n",
    "# For example, running this (by clicking run or pressing Shift+Enter) will list the files in the input directory\n",
    "\n",
    "import os\n",
    "print(os.listdir(\"./retailrocket\"))\n",
    "\n",
    "folder = \"./retailrocket/\"\n",
    "\n",
    "category_tree = pd.read_csv(folder+\"category_tree.csv\", header= 0)\n",
    "events = pd.read_csv(folder+\"events.csv\", header= 0)\n",
    "item_properties_part1 = pd.read_csv(folder+\"item_properties_part1.csv\", header= 0)\n",
    "item_properties_part2 = pd.read_csv(folder+\"item_properties_part2.csv\", header= 0)\n",
    "\n",
    "\n",
    "%matplotlib inline"
   ]
  },
  {
   "cell_type": "markdown",
   "metadata": {},
   "source": [
    "# Viewing Events data"
   ]
  },
  {
   "cell_type": "code",
   "execution_count": 3,
   "metadata": {},
   "outputs": [
    {
     "name": "stdout",
     "output_type": "stream",
     "text": [
      "       timestamp  visitorid event  itemid  transactionid\n",
      "0  1433221332117     257597  view  355908            NaN\n",
      "1  1433224214164     992329  view  248676            NaN\n",
      "2  1433221999827     111016  view  318965            NaN\n",
      "3  1433221955914     483717  view  253185            NaN\n",
      "4  1433221337106     951259  view  367447            NaN\n",
      "#############\n",
      "event\n",
      "addtocart        69332\n",
      "transaction      22457\n",
      "view           2664312\n",
      "dtype: int64\n",
      "2664312\n",
      "#############\n",
      "Total number for Items: 235061\n"
     ]
    },
    {
     "data": {
      "image/png": "[encoded data removed]",
      "text/plain": [
       "<Figure size 576x576 with 1 Axes>"
      ]
     },
     "metadata": {},
     "output_type": "display_data"
    }
   ],
   "source": [
    "#print(len(events))\n",
    "#events.head(5)\n",
    "\n",
    "print(events.head(5))\n",
    "\n",
    "print('#############')\n",
    "events_info = events.groupby(['event']).size()\n",
    "print(events_info)\n",
    "print(events_info['view'])\n",
    "print('#############')\n",
    "events_item_ids = events['itemid'].unique();\n",
    "print('Total number for Items: {}'.format(len(events_item_ids)))\n",
    "\n",
    "pieC = events_info.plot.pie(subplots=True,figsize=(8, 8), labels=events_info.index, fontsize=10, autopct='%.2f')\n",
    "#pieC.legends(labels=counts.index)"
   ]
  },
  {
   "cell_type": "code",
   "execution_count": 10,
   "metadata": {},
   "outputs": [
    {
     "data": {
      "text/html": [
       "<div>\n",
       "<style scoped>\n",
       "    .dataframe tbody tr th:only-of-type {\n",
       "        vertical-align: middle;\n",
       "    }\n",
       "\n",
       "    .dataframe tbody tr th {\n",
       "        vertical-align: top;\n",
       "    }\n",
       "\n",
       "    .dataframe thead th {\n",
       "        text-align: right;\n",
       "    }\n",
       "</style>\n",
       "<table border=\"1\" class=\"dataframe\">\n",
       "  <thead>\n",
       "    <tr style=\"text-align: right;\">\n",
       "      <th></th>\n",
       "      <th>visitorid</th>\n",
       "      <th>itemid</th>\n",
       "      <th>eventid</th>\n",
       "    </tr>\n",
       "  </thead>\n",
       "  <tbody>\n",
       "    <tr>\n",
       "      <th>0</th>\n",
       "      <td>257597</td>\n",
       "      <td>355908</td>\n",
       "      <td>1</td>\n",
       "    </tr>\n",
       "    <tr>\n",
       "      <th>1</th>\n",
       "      <td>992329</td>\n",
       "      <td>248676</td>\n",
       "      <td>1</td>\n",
       "    </tr>\n",
       "    <tr>\n",
       "      <th>2</th>\n",
       "      <td>111016</td>\n",
       "      <td>318965</td>\n",
       "      <td>1</td>\n",
       "    </tr>\n",
       "    <tr>\n",
       "      <th>3</th>\n",
       "      <td>483717</td>\n",
       "      <td>253185</td>\n",
       "      <td>1</td>\n",
       "    </tr>\n",
       "    <tr>\n",
       "      <th>4</th>\n",
       "      <td>951259</td>\n",
       "      <td>367447</td>\n",
       "      <td>1</td>\n",
       "    </tr>\n",
       "    <tr>\n",
       "      <th>...</th>\n",
       "      <td>...</td>\n",
       "      <td>...</td>\n",
       "      <td>...</td>\n",
       "    </tr>\n",
       "    <tr>\n",
       "      <th>95</th>\n",
       "      <td>320957</td>\n",
       "      <td>102131</td>\n",
       "      <td>1</td>\n",
       "    </tr>\n",
       "    <tr>\n",
       "      <th>96</th>\n",
       "      <td>132736</td>\n",
       "      <td>67627</td>\n",
       "      <td>1</td>\n",
       "    </tr>\n",
       "    <tr>\n",
       "      <th>97</th>\n",
       "      <td>282587</td>\n",
       "      <td>78037</td>\n",
       "      <td>1</td>\n",
       "    </tr>\n",
       "    <tr>\n",
       "      <th>98</th>\n",
       "      <td>901571</td>\n",
       "      <td>458588</td>\n",
       "      <td>1</td>\n",
       "    </tr>\n",
       "    <tr>\n",
       "      <th>99</th>\n",
       "      <td>442035</td>\n",
       "      <td>75006</td>\n",
       "      <td>1</td>\n",
       "    </tr>\n",
       "  </tbody>\n",
       "</table>\n",
       "<p>100 rows × 3 columns</p>\n",
       "</div>"
      ],
      "text/plain": [
       "    visitorid  itemid  eventid\n",
       "0      257597  355908        1\n",
       "1      992329  248676        1\n",
       "2      111016  318965        1\n",
       "3      483717  253185        1\n",
       "4      951259  367447        1\n",
       "..        ...     ...      ...\n",
       "95     320957  102131        1\n",
       "96     132736   67627        1\n",
       "97     282587   78037        1\n",
       "98     901571  458588        1\n",
       "99     442035   75006        1\n",
       "\n",
       "[100 rows x 3 columns]"
      ]
     },
     "execution_count": 10,
     "metadata": {},
     "output_type": "execute_result"
    }
   ],
   "source": [
    "transfrom_rating = []\n",
    "def transfrom_data(data_raw):\n",
    "    data = data_raw.copy()\n",
    "    for event in data.event:\n",
    "        if(event == 'view'):\n",
    "            transfrom_rating.append(1)\n",
    "        if(event == 'addtocart'):\n",
    "            transfrom_rating.append(2)\n",
    "        if(event == 'transaction'):\n",
    "            transfrom_rating.append(3)\n",
    "    data['eventid']= transfrom_rating\n",
    "    return data[['visitorid','itemid','eventid']]\n",
    "data_surprise = transfrom_data(events)\n",
    "data_surprise.head(100)"
   ]
  },
  {
   "cell_type": "markdown",
   "metadata": {},
   "source": [
    "# Viewing Category Data"
   ]
  },
  {
   "cell_type": "code",
   "execution_count": 4,
   "metadata": {},
   "outputs": [
    {
     "name": "stdout",
     "output_type": "stream",
     "text": [
      "category data\n"
     ]
    },
    {
     "data": {
      "text/html": [
       "<div>\n",
       "<style scoped>\n",
       "    .dataframe tbody tr th:only-of-type {\n",
       "        vertical-align: middle;\n",
       "    }\n",
       "\n",
       "    .dataframe tbody tr th {\n",
       "        vertical-align: top;\n",
       "    }\n",
       "\n",
       "    .dataframe thead th {\n",
       "        text-align: right;\n",
       "    }\n",
       "</style>\n",
       "<table border=\"1\" class=\"dataframe\">\n",
       "  <thead>\n",
       "    <tr style=\"text-align: right;\">\n",
       "      <th></th>\n",
       "      <th>categoryid</th>\n",
       "      <th>parentid</th>\n",
       "    </tr>\n",
       "  </thead>\n",
       "  <tbody>\n",
       "    <tr>\n",
       "      <th>0</th>\n",
       "      <td>1016</td>\n",
       "      <td>213.0</td>\n",
       "    </tr>\n",
       "    <tr>\n",
       "      <th>1</th>\n",
       "      <td>809</td>\n",
       "      <td>169.0</td>\n",
       "    </tr>\n",
       "    <tr>\n",
       "      <th>2</th>\n",
       "      <td>570</td>\n",
       "      <td>9.0</td>\n",
       "    </tr>\n",
       "    <tr>\n",
       "      <th>3</th>\n",
       "      <td>1691</td>\n",
       "      <td>885.0</td>\n",
       "    </tr>\n",
       "    <tr>\n",
       "      <th>4</th>\n",
       "      <td>536</td>\n",
       "      <td>1691.0</td>\n",
       "    </tr>\n",
       "  </tbody>\n",
       "</table>\n",
       "</div>"
      ],
      "text/plain": [
       "   categoryid  parentid\n",
       "0        1016     213.0\n",
       "1         809     169.0\n",
       "2         570       9.0\n",
       "3        1691     885.0\n",
       "4         536    1691.0"
      ]
     },
     "execution_count": 4,
     "metadata": {},
     "output_type": "execute_result"
    }
   ],
   "source": [
    "print('category data')\n",
    "category_tree.head(5)"
   ]
  },
  {
   "cell_type": "markdown",
   "metadata": {},
   "source": [
    "# Concantenate Properties\n",
    "\n"
   ]
  },
  {
   "cell_type": "code",
   "execution_count": 5,
   "metadata": {},
   "outputs": [
    {
     "name": "stdout",
     "output_type": "stream",
     "text": [
      "Count Total Data Rows: 20275902\n",
      "       timestamp  itemid    property                            value\n",
      "0  1435460400000  460429  categoryid                             1338\n",
      "1  1441508400000  206783         888          1116713 960601 n277.200\n",
      "2  1439089200000  395014         400  n552.000 639502 n720.000 424566\n",
      "3  1431226800000   59481         790                       n15360.000\n",
      "4  1431831600000  156781         917                           828513\n",
      "Total number for Properties: 1104\n",
      "Total number for Items: 417053\n"
     ]
    }
   ],
   "source": [
    "\n",
    "item_properties = pd.concat([item_properties_part1, item_properties_part2])\n",
    "print('Count Total Data Rows: {}'.format(item_properties['timestamp'].count()))\n",
    "print(item_properties.head(5))\n",
    "\n",
    "properties = item_properties['property'].unique()\n",
    "properties_size = item_properties.groupby(['property']).size()\n",
    "print('Total number for Properties: {}'.format(len(properties)))\n",
    "\n",
    "\n",
    "prop_item_ids = item_properties['itemid'].unique()\n",
    "print('Total number for Items: {}'.format(len(prop_item_ids)))\n",
    "\n",
    "properties_size.sort_values(ascending=False).head(20)\n",
    "\n",
    "\n",
    "item_p = item_properties.groupby(['property']).size()\n"
   ]
  },
  {
   "cell_type": "code",
   "execution_count": null,
   "metadata": {},
   "outputs": [],
   "source": []
  },
  {
   "cell_type": "code",
   "execution_count": 6,
   "metadata": {},
   "outputs": [
    {
     "name": "stdout",
     "output_type": "stream",
     "text": [
      "property\n",
      "1091     1\n",
      "769      1\n",
      "1046     1\n",
      "722      1\n",
      "744      1\n",
      "        ..\n",
      "564     28\n",
      "428     28\n",
      "425     28\n",
      "721     29\n",
      "864     29\n",
      "Length: 100, dtype: int64\n"
     ]
    },
    {
     "data": {
      "text/plain": [
       "<matplotlib.axes._subplots.AxesSubplot at 0x1c00cc58f98>"
      ]
     },
     "execution_count": 6,
     "metadata": {},
     "output_type": "execute_result"
    },
    {
     "data": {
      "image/png": "[encoded data removed]",
      "text/plain": [
       "<Figure size 1440x360 with 1 Axes>"
      ]
     },
     "metadata": {
      "needs_background": "light"
     },
     "output_type": "display_data"
    }
   ],
   "source": [
    "# Sort Values to find out the relevant Properties\n",
    "\n",
    "item_p_sorted = item_p.sort_values()\n",
    "print(item_p_sorted.head(100))\n",
    "\n",
    "item_p_sorted.plot.line(figsize=[20, 5])"
   ]
  },
  {
   "cell_type": "code",
   "execution_count": 7,
   "metadata": {},
   "outputs": [
    {
     "name": "stdout",
     "output_type": "stream",
     "text": [
      "880.5\n"
     ]
    },
    {
     "data": {
      "text/plain": [
       "property\n",
       "888           3000398.0\n",
       "790           1790516.0\n",
       "available     1503639.0\n",
       "categoryid     788214.0\n",
       "6              631471.0\n",
       "283            597419.0\n",
       "776            574220.0\n",
       "678            481966.0\n",
       "364            476486.0\n",
       "202            448938.0\n",
       "839            417239.0\n",
       "917            417227.0\n",
       "159            417053.0\n",
       "112            417053.0\n",
       "764            417053.0\n",
       "227            347492.0\n",
       "698            289849.0\n",
       "451            264416.0\n",
       "663            240813.0\n",
       "962            239372.0\n",
       "400            216481.0\n",
       "689            214225.0\n",
       "28             172393.0\n",
       "928            160818.0\n",
       "1036           146246.0\n",
       "810            142575.0\n",
       "348            113303.0\n",
       "544            113246.0\n",
       "713            104931.0\n",
       "1032            82805.0\n",
       "19              75744.0\n",
       "566             72966.0\n",
       "581             68009.0\n",
       "978             64569.0\n",
       "981             62513.0\n",
       "720             55349.0\n",
       "243             54216.0\n",
       "960             54141.0\n",
       "46              54141.0\n",
       "434             54141.0\n",
       "38              54141.0\n",
       "71              52620.0\n",
       "797             51271.0\n",
       "591             50640.0\n",
       "961             49627.0\n",
       "441             49187.0\n",
       "486             48335.0\n",
       "225             48277.0\n",
       "575             47613.0\n",
       "915             46572.0\n",
       "dtype: float64"
      ]
     },
     "execution_count": 7,
     "metadata": {},
     "output_type": "execute_result"
    }
   ],
   "source": [
    "print(item_p_sorted.median())\n",
    "item_copy = item_p_sorted.copy()\n",
    "relevant_properties = item_copy.where(item_p_sorted > 881).dropna().sort_values(ascending=False).head(50)\n",
    "print(relevant_properties)\n"
   ]
  },
  {
   "cell_type": "markdown",
   "metadata": {},
   "source": [
    "# Visitor Data"
   ]
  },
  {
   "cell_type": "code",
   "execution_count": 38,
   "metadata": {},
   "outputs": [
    {
     "name": "stdout",
     "output_type": "stream",
     "text": [
      "0           257597\n",
      "1           992329\n",
      "2           111016\n",
      "3           483717\n",
      "4           951259\n",
      "            ...   \n",
      "2756096     591435\n",
      "2756097     762376\n",
      "2756098    1251746\n",
      "2756099    1184451\n",
      "2756100     199536\n",
      "Name: visitorid, Length: 2756101, dtype: int64\n",
      "0           257597\n",
      "1           992329\n",
      "2           111016\n",
      "3           483717\n",
      "4           951259\n",
      "            ...   \n",
      "1407575    1392454\n",
      "1407576     226214\n",
      "1407577     591435\n",
      "1407578     762376\n",
      "1407579    1184451\n",
      "Length: 1407580, dtype: int64\n",
      "             timestamp  visitorid event  itemid  transactionid\n",
      "0        1433221332117     257597  view  355908            NaN\n",
      "1        1433224214164     992329  view  248676            NaN\n",
      "2        1433221999827     111016  view  318965            NaN\n",
      "3        1433221955914     483717  view  253185            NaN\n",
      "4        1433221337106     951259  view  367447            NaN\n",
      "...                ...        ...   ...     ...            ...\n",
      "2756096  1438398785939     591435  view  261427            NaN\n",
      "2756097  1438399813142     762376  view  115946            NaN\n",
      "2756098  1438397820527    1251746  view   78144            NaN\n",
      "2756099  1438398530703    1184451  view  283392            NaN\n",
      "2756100  1438400163914     199536  view  152913            NaN\n",
      "\n",
      "[2664312 rows x 5 columns]\n",
      "             timestamp  visitorid event  itemid  transactionid\n",
      "0        1433221332117     257597  view  355908            NaN\n",
      "1        1433224214164     992329  view  248676            NaN\n",
      "2        1433221999827     111016  view  318965            NaN\n",
      "3        1433221955914     483717  view  253185            NaN\n",
      "4        1433221337106     951259  view  367447            NaN\n",
      "...                ...        ...   ...     ...            ...\n",
      "2756096  1438398785939     591435  view  261427            NaN\n",
      "2756097  1438399813142     762376  view  115946            NaN\n",
      "2756098  1438397820527    1251746  view   78144            NaN\n",
      "2756099  1438398530703    1184451  view  283392            NaN\n",
      "2756100  1438400163914     199536  view  152913            NaN\n",
      "\n",
      "[2664312 rows x 5 columns] #####\n",
      "              timestamp  visitorid      event  itemid  transactionid\n",
      "17       1433223236124     287857  addtocart    5206            NaN\n",
      "19       1433221078505     158090  addtocart   10572            NaN\n",
      "63       1433223543021    1193904  addtocart  255275            NaN\n",
      "112      1433221941632     599528  addtocart  356475            NaN\n",
      "179      1433220880956     105775  addtocart  312728            NaN\n",
      "...                ...        ...        ...     ...            ...\n",
      "2755956  1438400400805     831605  addtocart   57810            NaN\n",
      "2756056  1438398156086      10670  addtocart  419736            NaN\n",
      "2756074  1438400994744     144106  addtocart  141241            NaN\n",
      "2756078  1438399807937     804736  addtocart  447661            NaN\n",
      "2756090  1438399811281     804736  addtocart  346534            NaN\n",
      "\n",
      "[69332 rows x 5 columns] #####\n",
      "              timestamp  visitorid        event  itemid  transactionid\n",
      "130      1433222276276     599528  transaction  356475         4000.0\n",
      "304      1433193500981     121688  transaction   15335        11117.0\n",
      "418      1433193915008     552148  transaction   81345         5444.0\n",
      "814      1433176736375     102019  transaction  150318        13556.0\n",
      "843      1433174518180     189384  transaction  310791         7244.0\n",
      "...                ...        ...          ...     ...            ...\n",
      "2755294  1438377176570    1050575  transaction   31640         8354.0\n",
      "2755349  1438379878779     861299  transaction  456602         3643.0\n",
      "2755508  1438357730123     855941  transaction  235771         4385.0\n",
      "2755603  1438355560300     548772  transaction   29167        13872.0\n",
      "2755607  1438358989163    1051054  transaction  312728        17579.0\n",
      "\n",
      "[22457 rows x 5 columns]\n"
     ]
    }
   ],
   "source": [
    "visitors = events['visitorid']\n",
    "print(visitors)\n",
    "uniq_visitors = pd.Series(events['visitorid'].unique()) \n",
    "print(uniq_visitors)\n",
    "\n",
    "visitors_viewed = events.loc[events['event'] == 'view']\n",
    "print(visitors_viewed)\n",
    "visitors_addtocart = events.loc[events['event'] == 'addtocart']\n",
    "visitors_bought = events.loc[events['event'] == 'transaction']\n",
    "\n",
    "print(visitors_viewed, \"#####\\n\", visitors_addtocart, \"#####\\n\", visitors_bought)"
   ]
  },
  {
   "cell_type": "markdown",
   "metadata": {},
   "source": [
    "# Nächste Todos\n",
    "\n",
    "* Item-Matrix mit ausgewählten Features\n",
    "* Factorization Matrix?\n",
    "* Ist visitorid ein Kunde oder nur ein Besucher? Klären?\n",
    "* Relevanz von Parent-Categories\n",
    "* Anbindung LightFM (oä)\n"
   ]
  }
 ],
 "metadata": {
  "kernelspec": {
   "display_name": "Python 3",
   "language": "python",
   "name": "python3"
  },
  "language_info": {
   "codemirror_mode": {
    "name": "ipython",
    "version": 3
   },
   "file_extension": ".py",
   "mimetype": "text/x-python",
   "name": "python",
   "nbconvert_exporter": "python",
   "pygments_lexer": "ipython3",
   "version": "3.7.7"
  }
 },
 "nbformat": 4,
 "nbformat_minor": 4
}
