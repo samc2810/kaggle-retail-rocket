{
 "cells": [
  {
   "cell_type": "code",
   "execution_count": 22,
   "metadata": {
    "_cell_guid": "b1076dfc-b9ad-4769-8c92-a6c4dae69d19",
    "_uuid": "8f2839f25d086af736a60e9eeb907d3b93b6e0e5"
   },
   "outputs": [
    {
     "name": "stdout",
     "output_type": "stream",
     "text": [
      "['category_tree.csv', 'events.csv', 'item_properties_part1.csv', 'item_properties_part2.csv']\n"
     ]
    }
   ],
   "source": [
    "# This Python 3 environment comes with many helpful analytics libraries installed\n",
    "# It is defined by the kaggle/python docker image: https://github.com/kaggle/docker-python\n",
    "# For example, here's several helpful packages to load in \n",
    "from lightfm import LightFM\n",
    "from lightfm.data import Dataset\n",
    "from sklearn.model_selection import train_test_split\n",
    "import numpy as np # linear algebra\n",
    "import pandas as pd # data processing, CSV file I/O (e.g. pd.read_csv)\n",
    "# Input data files are available in the \"../input/\" directory.\n",
    "# For example, running this (by clicking run or pressing Shift+Enter) will list the files in the input directory\n",
    "\n",
    "import os\n",
    "\n",
    "\n",
    "print(os.listdir(\"../data\"))\n",
    "\n",
    "# Any results you write to the current directory are saved as output."
   ]
  },
  {
   "cell_type": "markdown",
   "metadata": {},
   "source": [
    "** Preprocessing data **\n",
    "+ Remove user that appears once\n",
    "+ Remove the same index\n",
    "+ Lots of visitorid and itemd have the largest rating"
   ]
  },
  {
   "cell_type": "code",
   "execution_count": 23,
   "metadata": {},
   "outputs": [],
   "source": [
    "def LoadData():\n",
    "    category_tree = pd.read_csv(\"../data/category_tree.csv\", header= 0)\n",
    "    events = pd.read_csv(\"../data/events.csv\", header= 0)\n",
    "    item_properties_part1 = pd.read_csv(\"../data/item_properties_part1.csv\", header= 0)\n",
    "    item_properties_part2 = pd.read_csv(\"../data/item_properties_part2.csv\", header= 0)\n",
    "    item_properties_part = pd.concat([item_properties_part1, item_properties_part2])\n",
    "    return category_tree, events,item_properties_part\n",
    "\n",
    "\n",
    "def TransfromData(category_tree, events,item_properties_part):\n",
    "    data_raw = events[['visitorid','event','itemid']]\n",
    "    data = data_raw.copy()\n",
    "    transfrom_rating = []\n",
    "    for event in data.event:\n",
    "        if(event == 'view'):\n",
    "            transfrom_rating.append(1)\n",
    "        if(event == 'addtocart'):\n",
    "            transfrom_rating.append(2)\n",
    "        if(event == 'transaction'):\n",
    "            transfrom_rating.append(3)\n",
    "    data['rating']= transfrom_rating\n",
    "    return data[['visitorid','itemid','rating']]\n",
    "\n",
    "\n",
    "def RedundantData_VisistorOnlyApper(transform_data):\n",
    "    data_examining = transform_data.copy()\n",
    "    visitorid_size = data_examining.groupby(['visitorid']).size().reset_index(name='Size').sort_values(\"visitorid\")\n",
    "    visitorid_only_appear = visitorid_size[visitorid_size['Size']== 1]['visitorid'].tolist()\n",
    "    data_surprise_remove_only_appear = data_examining[~data_examining['visitorid'].isin(visitorid_only_appear)]\n",
    "    return data_surprise_remove_only_appear\n",
    "\n",
    "\n",
    "\n",
    "def RedundantData_DropDuplicatesFeature(data_surprise_remove_only_appear):\n",
    "    drop_feature = ['visitorid','itemid','rating']\n",
    "    data_surprise_drop_duplicates_3_feature = data_surprise_remove_only_appear.drop_duplicates(subset=drop_feature)\n",
    "    return data_surprise_drop_duplicates_3_feature\n",
    "\n",
    "\n",
    "\n",
    "def RedundantData_SelectMaxRating(data_surprise_drop_duplicates_3_feature):\n",
    "    drop_feature = ['visitorid','itemid']\n",
    "    data_examining = data_surprise_drop_duplicates_3_feature.copy()\n",
    "    data_seclect_max_rating = data_examining.groupby(drop_feature).max()['rating'].reset_index()\n",
    "    return data_seclect_max_rating"
   ]
  },
  {
   "cell_type": "code",
   "execution_count": 24,
   "metadata": {},
   "outputs": [],
   "source": [
    "category_tree, events,item_properties_part = LoadData()\n",
    "transform_data = TransfromData(category_tree, events,item_properties_part)\n",
    "data_surprise_remove_only_appear = RedundantData_VisistorOnlyApper(transform_data)\n",
    "data_surprise_drop_duplicates = RedundantData_DropDuplicatesFeature(data_surprise_remove_only_appear)\n",
    "data_seclect_max_rating = RedundantData_SelectMaxRating(data_surprise_drop_duplicates)"
   ]
  },
  {
   "cell_type": "code",
   "execution_count": 25,
   "metadata": {},
   "outputs": [
    {
     "data": {
      "text/html": [
       "<div>\n",
       "<style scoped>\n",
       "    .dataframe tbody tr th:only-of-type {\n",
       "        vertical-align: middle;\n",
       "    }\n",
       "\n",
       "    .dataframe tbody tr th {\n",
       "        vertical-align: top;\n",
       "    }\n",
       "\n",
       "    .dataframe thead th {\n",
       "        text-align: right;\n",
       "    }\n",
       "</style>\n",
       "<table border=\"1\" class=\"dataframe\">\n",
       "  <thead>\n",
       "    <tr style=\"text-align: right;\">\n",
       "      <th></th>\n",
       "      <th>visitorid</th>\n",
       "      <th>itemid</th>\n",
       "      <th>rating</th>\n",
       "    </tr>\n",
       "  </thead>\n",
       "  <tbody>\n",
       "    <tr>\n",
       "      <th>0</th>\n",
       "      <td>0</td>\n",
       "      <td>67045</td>\n",
       "      <td>1</td>\n",
       "    </tr>\n",
       "    <tr>\n",
       "      <th>1</th>\n",
       "      <td>0</td>\n",
       "      <td>285930</td>\n",
       "      <td>1</td>\n",
       "    </tr>\n",
       "    <tr>\n",
       "      <th>2</th>\n",
       "      <td>0</td>\n",
       "      <td>357564</td>\n",
       "      <td>1</td>\n",
       "    </tr>\n",
       "    <tr>\n",
       "      <th>3</th>\n",
       "      <td>2</td>\n",
       "      <td>216305</td>\n",
       "      <td>1</td>\n",
       "    </tr>\n",
       "    <tr>\n",
       "      <th>4</th>\n",
       "      <td>2</td>\n",
       "      <td>259884</td>\n",
       "      <td>1</td>\n",
       "    </tr>\n",
       "  </tbody>\n",
       "</table>\n",
       "</div>"
      ],
      "text/plain": [
       "   visitorid  itemid  rating\n",
       "0          0   67045       1\n",
       "1          0  285930       1\n",
       "2          0  357564       1\n",
       "3          2  216305       1\n",
       "4          2  259884       1"
      ]
     },
     "execution_count": 25,
     "metadata": {},
     "output_type": "execute_result"
    }
   ],
   "source": [
    "data_seclect_max_rating.head()"
   ]
  },
  {
   "cell_type": "code",
   "execution_count": 26,
   "metadata": {},
   "outputs": [
    {
     "name": "stdout",
     "output_type": "stream",
     "text": [
      "<class 'pandas.core.frame.DataFrame'>\n",
      "RangeIndex: 1143619 entries, 0 to 1143618\n",
      "Data columns (total 3 columns):\n",
      " #   Column     Non-Null Count    Dtype\n",
      "---  ------     --------------    -----\n",
      " 0   visitorid  1143619 non-null  int64\n",
      " 1   itemid     1143619 non-null  int64\n",
      " 2   rating     1143619 non-null  int64\n",
      "dtypes: int64(3)\n",
      "memory usage: 26.2 MB\n"
     ]
    }
   ],
   "source": [
    "data_seclect_max_rating.info()"
   ]
  },
  {
   "cell_type": "code",
   "execution_count": 27,
   "metadata": {},
   "outputs": [],
   "source": [
    "data = data_seclect_max_rating.copy()"
   ]
  },
  {
   "cell_type": "code",
   "execution_count": 28,
   "metadata": {},
   "outputs": [
    {
     "data": {
      "text/html": [
       "<div>\n",
       "<style scoped>\n",
       "    .dataframe tbody tr th:only-of-type {\n",
       "        vertical-align: middle;\n",
       "    }\n",
       "\n",
       "    .dataframe tbody tr th {\n",
       "        vertical-align: top;\n",
       "    }\n",
       "\n",
       "    .dataframe thead th {\n",
       "        text-align: right;\n",
       "    }\n",
       "</style>\n",
       "<table border=\"1\" class=\"dataframe\">\n",
       "  <thead>\n",
       "    <tr style=\"text-align: right;\">\n",
       "      <th></th>\n",
       "      <th>visitorid</th>\n",
       "      <th>itemid</th>\n",
       "      <th>rating</th>\n",
       "    </tr>\n",
       "  </thead>\n",
       "  <tbody>\n",
       "    <tr>\n",
       "      <th>0</th>\n",
       "      <td>0</td>\n",
       "      <td>67045</td>\n",
       "      <td>1</td>\n",
       "    </tr>\n",
       "    <tr>\n",
       "      <th>1</th>\n",
       "      <td>0</td>\n",
       "      <td>285930</td>\n",
       "      <td>1</td>\n",
       "    </tr>\n",
       "    <tr>\n",
       "      <th>2</th>\n",
       "      <td>0</td>\n",
       "      <td>357564</td>\n",
       "      <td>1</td>\n",
       "    </tr>\n",
       "    <tr>\n",
       "      <th>3</th>\n",
       "      <td>2</td>\n",
       "      <td>216305</td>\n",
       "      <td>1</td>\n",
       "    </tr>\n",
       "    <tr>\n",
       "      <th>4</th>\n",
       "      <td>2</td>\n",
       "      <td>259884</td>\n",
       "      <td>1</td>\n",
       "    </tr>\n",
       "  </tbody>\n",
       "</table>\n",
       "</div>"
      ],
      "text/plain": [
       "   visitorid  itemid  rating\n",
       "0          0   67045       1\n",
       "1          0  285930       1\n",
       "2          0  357564       1\n",
       "3          2  216305       1\n",
       "4          2  259884       1"
      ]
     },
     "execution_count": 28,
     "metadata": {},
     "output_type": "execute_result"
    }
   ],
   "source": [
    "data.head()"
   ]
  },
  {
   "cell_type": "markdown",
   "metadata": {},
   "source": [
    "** Model building **\n",
    "+ Interaction and weigth: prepare to add the model\n",
    "+ Create query data: users are not continuous so they need to create a conversion"
   ]
  },
  {
   "cell_type": "code",
   "execution_count": 29,
   "metadata": {},
   "outputs": [],
   "source": [
    "def ProcessData(data_form_pandas):\n",
    "    data_form_pandas.sort_values(by =['visitorid','itemid'], inplace = True)\n",
    "    data_form_pandas.reset_index(drop=True, inplace = True)\n",
    "    return data_form_pandas\n",
    "def Onehot(list_sample):\n",
    "    if(list_sample != 0):\n",
    "        return 1\n",
    "    else:\n",
    "        return 0\n",
    "def CountSame(frist_list, second_list):\n",
    "    return list(set(frist_list).intersection(set(second_list)))\n",
    "def InteractionTransform(transform_data):\n",
    "    data_numpy = np.array(transform_data)\n",
    "    data_lightfm = Dataset()\n",
    "    data_lightfm.fit(users= transform_data['visitorid'].unique(),items= transform_data['itemid'].unique())\n",
    "    interactions, weigths = data_lightfm.build_interactions(\n",
    "        (feature[0],feature[1],feature[2]) for feature in data_numpy)\n",
    "    return interactions, weigths\n",
    "def MergeInteraction(original_data):\n",
    "    interaction, weight = InteractionTransform(original_data)\n",
    "    interaction_user = interaction.row\n",
    "    interaction_item = interaction.col\n",
    "    original_data['transform user'] = interaction_user\n",
    "    original_data['transform item'] = interaction_item\n",
    "    query_data = original_data.copy()\n",
    "    return query_data\n",
    "def BuildLightFmModel(data_form_pandas):\n",
    "    data = data_form_pandas.copy()\n",
    "    model = LightFM(loss='warp')\n",
    "    interaction, weight = InteractionTransform(data)\n",
    "    model.fit_partial(interactions= interaction, sample_weight= weight)\n",
    "    return model"
   ]
  },
  {
   "cell_type": "code",
   "execution_count": 50,
   "metadata": {},
   "outputs": [],
   "source": [
    "data_train, data_test = train_test_split(data, test_size = 0.25)"
   ]
  },
  {
   "cell_type": "markdown",
   "metadata": {},
   "source": [
    "** Due to too many data we only build with data_test **"
   ]
  },
  {
   "cell_type": "code",
   "execution_count": 51,
   "metadata": {},
   "outputs": [
    {
     "data": {
      "text/html": [
       "<div>\n",
       "<style scoped>\n",
       "    .dataframe tbody tr th:only-of-type {\n",
       "        vertical-align: middle;\n",
       "    }\n",
       "\n",
       "    .dataframe tbody tr th {\n",
       "        vertical-align: top;\n",
       "    }\n",
       "\n",
       "    .dataframe thead th {\n",
       "        text-align: right;\n",
       "    }\n",
       "</style>\n",
       "<table border=\"1\" class=\"dataframe\">\n",
       "  <thead>\n",
       "    <tr style=\"text-align: right;\">\n",
       "      <th></th>\n",
       "      <th>visitorid</th>\n",
       "      <th>itemid</th>\n",
       "      <th>rating</th>\n",
       "    </tr>\n",
       "  </thead>\n",
       "  <tbody>\n",
       "    <tr>\n",
       "      <th>715347</th>\n",
       "      <td>876792</td>\n",
       "      <td>168504</td>\n",
       "      <td>1</td>\n",
       "    </tr>\n",
       "    <tr>\n",
       "      <th>214493</th>\n",
       "      <td>261064</td>\n",
       "      <td>181242</td>\n",
       "      <td>1</td>\n",
       "    </tr>\n",
       "    <tr>\n",
       "      <th>26433</th>\n",
       "      <td>33807</td>\n",
       "      <td>312357</td>\n",
       "      <td>1</td>\n",
       "    </tr>\n",
       "    <tr>\n",
       "      <th>1126989</th>\n",
       "      <td>1385944</td>\n",
       "      <td>44023</td>\n",
       "      <td>1</td>\n",
       "    </tr>\n",
       "    <tr>\n",
       "      <th>375550</th>\n",
       "      <td>460599</td>\n",
       "      <td>172714</td>\n",
       "      <td>1</td>\n",
       "    </tr>\n",
       "  </tbody>\n",
       "</table>\n",
       "</div>"
      ],
      "text/plain": [
       "         visitorid  itemid  rating\n",
       "715347      876792  168504       1\n",
       "214493      261064  181242       1\n",
       "26433        33807  312357       1\n",
       "1126989    1385944   44023       1\n",
       "375550      460599  172714       1"
      ]
     },
     "execution_count": 51,
     "metadata": {},
     "output_type": "execute_result"
    }
   ],
   "source": [
    "data_test.head()"
   ]
  },
  {
   "cell_type": "code",
   "execution_count": 52,
   "metadata": {},
   "outputs": [
    {
     "name": "stdout",
     "output_type": "stream",
     "text": [
      "(285905, 3)\n"
     ]
    }
   ],
   "source": [
    "dataset = data_test.copy()\n",
    "print(dataset.shape)"
   ]
  },
  {
   "cell_type": "code",
   "execution_count": 53,
   "metadata": {},
   "outputs": [
    {
     "name": "stdout",
     "output_type": "stream",
     "text": [
      "   visitorid  itemid  rating\n",
      "0          0   67045       1\n",
      "1          0  357564       1\n",
      "2          2  325215       1\n",
      "3          2  342816       1\n",
      "4          7  164941       1\n"
     ]
    }
   ],
   "source": [
    "data_tuning = ProcessData(dataset)\n",
    "print(data_tuning.head())\n",
    "interactions, weights = InteractionTransform(data_tuning)\n",
    "query_data = MergeInteraction(data_tuning)\n",
    "model_lightfm = BuildLightFmModel(data_tuning)"
   ]
  },
  {
   "cell_type": "code",
   "execution_count": 54,
   "metadata": {},
   "outputs": [
    {
     "data": {
      "text/html": [
       "<div>\n",
       "<style scoped>\n",
       "    .dataframe tbody tr th:only-of-type {\n",
       "        vertical-align: middle;\n",
       "    }\n",
       "\n",
       "    .dataframe tbody tr th {\n",
       "        vertical-align: top;\n",
       "    }\n",
       "\n",
       "    .dataframe thead th {\n",
       "        text-align: right;\n",
       "    }\n",
       "</style>\n",
       "<table border=\"1\" class=\"dataframe\">\n",
       "  <thead>\n",
       "    <tr style=\"text-align: right;\">\n",
       "      <th></th>\n",
       "      <th>visitorid</th>\n",
       "      <th>itemid</th>\n",
       "      <th>rating</th>\n",
       "      <th>transform user</th>\n",
       "      <th>transform item</th>\n",
       "    </tr>\n",
       "  </thead>\n",
       "  <tbody>\n",
       "    <tr>\n",
       "      <th>0</th>\n",
       "      <td>0</td>\n",
       "      <td>67045</td>\n",
       "      <td>1</td>\n",
       "      <td>0</td>\n",
       "      <td>0</td>\n",
       "    </tr>\n",
       "    <tr>\n",
       "      <th>1</th>\n",
       "      <td>0</td>\n",
       "      <td>357564</td>\n",
       "      <td>1</td>\n",
       "      <td>0</td>\n",
       "      <td>1</td>\n",
       "    </tr>\n",
       "    <tr>\n",
       "      <th>2</th>\n",
       "      <td>2</td>\n",
       "      <td>325215</td>\n",
       "      <td>1</td>\n",
       "      <td>1</td>\n",
       "      <td>2</td>\n",
       "    </tr>\n",
       "    <tr>\n",
       "      <th>3</th>\n",
       "      <td>2</td>\n",
       "      <td>342816</td>\n",
       "      <td>1</td>\n",
       "      <td>1</td>\n",
       "      <td>3</td>\n",
       "    </tr>\n",
       "    <tr>\n",
       "      <th>4</th>\n",
       "      <td>7</td>\n",
       "      <td>164941</td>\n",
       "      <td>1</td>\n",
       "      <td>2</td>\n",
       "      <td>4</td>\n",
       "    </tr>\n",
       "  </tbody>\n",
       "</table>\n",
       "</div>"
      ],
      "text/plain": [
       "   visitorid  itemid  rating  transform user  transform item\n",
       "0          0   67045       1               0               0\n",
       "1          0  357564       1               0               1\n",
       "2          2  325215       1               1               2\n",
       "3          2  342816       1               1               3\n",
       "4          7  164941       1               2               4"
      ]
     },
     "execution_count": 54,
     "metadata": {},
     "output_type": "execute_result"
    }
   ],
   "source": [
    "query_data.head()"
   ]
  },
  {
   "cell_type": "code",
   "execution_count": 55,
   "metadata": {},
   "outputs": [
    {
     "data": {
      "text/plain": [
       "<lightfm.lightfm.LightFM at 0x20102789848>"
      ]
     },
     "execution_count": 55,
     "metadata": {},
     "output_type": "execute_result"
    }
   ],
   "source": [
    "model_lightfm"
   ]
  },
  {
   "cell_type": "code",
   "execution_count": 56,
   "metadata": {},
   "outputs": [],
   "source": [
    "def PredictModel(lightfm_model, data_model, user_ids, verbose= False):\n",
    "    query_data = MergeInteraction(data_model)\n",
    "    query_user = query_data[query_data['visitorid'].isin(user_ids)]['transform user'].unique()\n",
    "    count = 0\n",
    "    original_item = []\n",
    "    recommend_item = []\n",
    "    item_same = []\n",
    "    length_item_same = []\n",
    "    for user_id in query_user:\n",
    "        known_item = query_data[query_data['transform user'] == user_id]['itemid'].tolist()\n",
    "        item_for_user = query_data['transform item'].unique().tolist()\n",
    "        scores = lightfm_model.predict([user_id], item_for_user)\n",
    "        top_items = query_data['itemid'][np.argsort(-scores)].tolist()\n",
    "        if(verbose == True):\n",
    "            print(\"User %s\" % user_ids[count])\n",
    "            print(\"     Known positives: \",known_item[:5])\n",
    "            print(\"     Recommended: \",top_items[:5])\n",
    "        count+= 1\n",
    "        original_item.append(known_item[:5])\n",
    "        recommend_item.append(top_items[:5])\n",
    "        item_same.append(CountSame(known_item[:5], top_items[:5]))\n",
    "        length_item_same.append(len(CountSame(known_item[:5], top_items[:5])))\n",
    "        \n",
    "    recommend = pd.DataFrame(user_ids, columns={'visitorid'})\n",
    "    recommend['original item'] = original_item\n",
    "    recommend['recommend item'] = recommend_item\n",
    "    recommend['item same'] = item_same\n",
    "    recommend['length'] = length_item_same\n",
    "    recommend['one hot'] = recommend['length'].apply(lambda x: Onehot(x))\n",
    "    return recommend       \n",
    "def Accuracy(recommend_form_pandas):\n",
    "    positive_user = recommend_form_pandas[recommend_form_pandas['length'] != 0].shape[0]\n",
    "    return positive_user/recommend_form_pandas.shape[0]"
   ]
  },
  {
   "cell_type": "code",
   "execution_count": 57,
   "metadata": {},
   "outputs": [
    {
     "data": {
      "text/plain": [
       "[0, 2, 7, 22, 32]"
      ]
     },
     "execution_count": 57,
     "metadata": {},
     "output_type": "execute_result"
    }
   ],
   "source": [
    "user = dataset['visitorid'].unique().tolist()\n",
    "user[:5]"
   ]
  },
  {
   "cell_type": "code",
   "execution_count": 58,
   "metadata": {},
   "outputs": [
    {
     "data": {
      "text/plain": [
       "[0, 2, 7, 22, 32]"
      ]
     },
     "execution_count": 58,
     "metadata": {},
     "output_type": "execute_result"
    }
   ],
   "source": [
    "user = query_data['visitorid'].unique().tolist()\n",
    "user[:5]"
   ]
  },
  {
   "cell_type": "code",
   "execution_count": 63,
   "metadata": {},
   "outputs": [
    {
     "ename": "KeyboardInterrupt",
     "evalue": "",
     "output_type": "error",
     "traceback": [
      "\u001b[1;31m---------------------------------------------------------------------------\u001b[0m",
      "\u001b[1;31mKeyboardInterrupt\u001b[0m                         Traceback (most recent call last)",
      "\u001b[1;32m<ipython-input-63-71c2b0396d98>\u001b[0m in \u001b[0;36m<module>\u001b[1;34m\u001b[0m\n\u001b[1;32m----> 1\u001b[1;33m \u001b[0mrecommend_data\u001b[0m \u001b[1;33m=\u001b[0m \u001b[0mPredictModel\u001b[0m\u001b[1;33m(\u001b[0m\u001b[0mmodel_lightfm\u001b[0m\u001b[1;33m,\u001b[0m \u001b[0mdataset\u001b[0m\u001b[1;33m,\u001b[0m \u001b[0muser\u001b[0m\u001b[1;33m)\u001b[0m\u001b[1;33m\u001b[0m\u001b[1;33m\u001b[0m\u001b[0m\n\u001b[0m",
      "\u001b[1;32m<ipython-input-56-02cdf8844b8e>\u001b[0m in \u001b[0;36mPredictModel\u001b[1;34m(lightfm_model, data_model, user_ids, verbose)\u001b[0m\n\u001b[0;32m     10\u001b[0m         \u001b[0mknown_item\u001b[0m \u001b[1;33m=\u001b[0m \u001b[0mquery_data\u001b[0m\u001b[1;33m[\u001b[0m\u001b[0mquery_data\u001b[0m\u001b[1;33m[\u001b[0m\u001b[1;34m'transform user'\u001b[0m\u001b[1;33m]\u001b[0m \u001b[1;33m==\u001b[0m \u001b[0muser_id\u001b[0m\u001b[1;33m]\u001b[0m\u001b[1;33m[\u001b[0m\u001b[1;34m'itemid'\u001b[0m\u001b[1;33m]\u001b[0m\u001b[1;33m.\u001b[0m\u001b[0mtolist\u001b[0m\u001b[1;33m(\u001b[0m\u001b[1;33m)\u001b[0m\u001b[1;33m\u001b[0m\u001b[1;33m\u001b[0m\u001b[0m\n\u001b[0;32m     11\u001b[0m         \u001b[0mitem_for_user\u001b[0m \u001b[1;33m=\u001b[0m \u001b[0mquery_data\u001b[0m\u001b[1;33m[\u001b[0m\u001b[1;34m'transform item'\u001b[0m\u001b[1;33m]\u001b[0m\u001b[1;33m.\u001b[0m\u001b[0munique\u001b[0m\u001b[1;33m(\u001b[0m\u001b[1;33m)\u001b[0m\u001b[1;33m.\u001b[0m\u001b[0mtolist\u001b[0m\u001b[1;33m(\u001b[0m\u001b[1;33m)\u001b[0m\u001b[1;33m\u001b[0m\u001b[1;33m\u001b[0m\u001b[0m\n\u001b[1;32m---> 12\u001b[1;33m         \u001b[0mscores\u001b[0m \u001b[1;33m=\u001b[0m \u001b[0mlightfm_model\u001b[0m\u001b[1;33m.\u001b[0m\u001b[0mpredict\u001b[0m\u001b[1;33m(\u001b[0m\u001b[1;33m[\u001b[0m\u001b[0muser_id\u001b[0m\u001b[1;33m]\u001b[0m\u001b[1;33m,\u001b[0m \u001b[0mitem_for_user\u001b[0m\u001b[1;33m)\u001b[0m\u001b[1;33m\u001b[0m\u001b[1;33m\u001b[0m\u001b[0m\n\u001b[0m\u001b[0;32m     13\u001b[0m         \u001b[0mtop_items\u001b[0m \u001b[1;33m=\u001b[0m \u001b[0mquery_data\u001b[0m\u001b[1;33m[\u001b[0m\u001b[1;34m'itemid'\u001b[0m\u001b[1;33m]\u001b[0m\u001b[1;33m[\u001b[0m\u001b[0mnp\u001b[0m\u001b[1;33m.\u001b[0m\u001b[0margsort\u001b[0m\u001b[1;33m(\u001b[0m\u001b[1;33m-\u001b[0m\u001b[0mscores\u001b[0m\u001b[1;33m)\u001b[0m\u001b[1;33m]\u001b[0m\u001b[1;33m.\u001b[0m\u001b[0mtolist\u001b[0m\u001b[1;33m(\u001b[0m\u001b[1;33m)\u001b[0m\u001b[1;33m\u001b[0m\u001b[1;33m\u001b[0m\u001b[0m\n\u001b[0;32m     14\u001b[0m         \u001b[1;32mif\u001b[0m\u001b[1;33m(\u001b[0m\u001b[0mverbose\u001b[0m \u001b[1;33m==\u001b[0m \u001b[1;32mTrue\u001b[0m\u001b[1;33m)\u001b[0m\u001b[1;33m:\u001b[0m\u001b[1;33m\u001b[0m\u001b[1;33m\u001b[0m\u001b[0m\n",
      "\u001b[1;32m~\\anaconda3\\envs\\retail-rocket\\lib\\site-packages\\lightfm\\lightfm.py\u001b[0m in \u001b[0;36mpredict\u001b[1;34m(self, user_ids, item_ids, item_features, user_features, num_threads)\u001b[0m\n\u001b[0;32m    729\u001b[0m                         \u001b[0mpredictions\u001b[0m\u001b[1;33m,\u001b[0m\u001b[1;33m\u001b[0m\u001b[1;33m\u001b[0m\u001b[0m\n\u001b[0;32m    730\u001b[0m                         \u001b[0mlightfm_data\u001b[0m\u001b[1;33m,\u001b[0m\u001b[1;33m\u001b[0m\u001b[1;33m\u001b[0m\u001b[0m\n\u001b[1;32m--> 731\u001b[1;33m                         num_threads)\n\u001b[0m\u001b[0;32m    732\u001b[0m \u001b[1;33m\u001b[0m\u001b[0m\n\u001b[0;32m    733\u001b[0m         \u001b[1;32mreturn\u001b[0m \u001b[0mpredictions\u001b[0m\u001b[1;33m\u001b[0m\u001b[1;33m\u001b[0m\u001b[0m\n",
      "\u001b[1;31mKeyboardInterrupt\u001b[0m: "
     ]
    }
   ],
   "source": [
    "recommend_data = PredictModel(model_lightfm, dataset, user)"
   ]
  },
  {
   "cell_type": "code",
   "execution_count": null,
   "metadata": {},
   "outputs": [],
   "source": [
    "recommend_data.head()"
   ]
  },
  {
   "cell_type": "code",
   "execution_count": null,
   "metadata": {},
   "outputs": [],
   "source": [
    "recommend_data[recommend_data['length'] != 0]"
   ]
  },
  {
   "cell_type": "code",
   "execution_count": null,
   "metadata": {},
   "outputs": [],
   "source": [
    "print(\"ACC : \",Accuracy(recommend_data))"
   ]
  },
  {
   "cell_type": "markdown",
   "metadata": {},
   "source": [
    "+ The accuracy of 500 samples is too low\n"
   ]
  },
  {
   "cell_type": "code",
   "execution_count": null,
   "metadata": {},
   "outputs": [],
   "source": []
  }
 ],
 "metadata": {
  "kernelspec": {
   "display_name": "Python 3",
   "language": "python",
   "name": "python3"
  },
  "language_info": {
   "codemirror_mode": {
    "name": "ipython",
    "version": 3
   },
   "file_extension": ".py",
   "mimetype": "text/x-python",
   "name": "python",
   "nbconvert_exporter": "python",
   "pygments_lexer": "ipython3",
   "version": "3.7.7"
  }
 },
 "nbformat": 4,
 "nbformat_minor": 4
}
