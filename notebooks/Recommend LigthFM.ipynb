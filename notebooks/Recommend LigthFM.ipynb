{
 "cells": [
  {
   "cell_type": "code",
   "execution_count": 27,
   "metadata": {
    "_cell_guid": "b1076dfc-b9ad-4769-8c92-a6c4dae69d19",
    "_uuid": "8f2839f25d086af736a60e9eeb907d3b93b6e0e5"
   },
   "outputs": [
    {
     "name": "stdout",
     "output_type": "stream",
     "text": [
      "['category_tree.csv', 'events.csv', 'item_properties_part1.csv', 'item_properties_part2.csv']\n"
     ]
    }
   ],
   "source": [
    "# This Python 3 environment comes with many helpful analytics libraries installed\n",
    "# It is defined by the kaggle/python docker image: https://github.com/kaggle/docker-python\n",
    "# For example, here's several helpful packages to load in \n",
    "from lightfm import LightFM\n",
    "from lightfm.data import Dataset\n",
    "from sklearn.model_selection import train_test_split\n",
    "import numpy as np # linear algebra\n",
    "import pandas as pd # data processing, CSV file I/O (e.g. pd.read_csv)\n",
    "# Input data files are available in the \"../input/\" directory.\n",
    "# For example, running this (by clicking run or pressing Shift+Enter) will list the files in the input directory\n",
    "\n",
    "import os\n",
    "\n",
    "\n",
    "print(os.listdir(\"../data\"))\n",
    "\n",
    "# Any results you write to the current directory are saved as output."
   ]
  },
  {
   "cell_type": "markdown",
   "metadata": {},
   "source": [
    "** Preprocessing data **\n",
    "+ Remove user that appears once\n",
    "+ Remove the same index\n",
    "+ Lots of visitorid and itemd have the largest rating"
   ]
  },
  {
   "cell_type": "code",
   "execution_count": 28,
   "metadata": {},
   "outputs": [],
   "source": [
    "def LoadData():\n",
    "    category_tree = pd.read_csv(\"../data/category_tree.csv\", header= 0)\n",
    "    events = pd.read_csv(\"../data/events.csv\", header= 0)\n",
    "    item_properties_part1 = pd.read_csv(\"../data/item_properties_part1.csv\", header= 0)\n",
    "    item_properties_part2 = pd.read_csv(\"../data/item_properties_part2.csv\", header= 0)\n",
    "    item_properties_part = pd.concat([item_properties_part1, item_properties_part2])\n",
    "    return category_tree, events,item_properties_part\n",
    "\n",
    "\n",
    "def TransfromData(category_tree, events,item_properties_part):\n",
    "    data_raw = events[['visitorid','event','itemid']]\n",
    "    data = data_raw.copy()\n",
    "    transfrom_rating = []\n",
    "    for event in data.event:\n",
    "        if(event == 'view'):\n",
    "            transfrom_rating.append(1)\n",
    "        if(event == 'addtocart'):\n",
    "            transfrom_rating.append(2)\n",
    "        if(event == 'transaction'):\n",
    "            transfrom_rating.append(3)\n",
    "    data['rating']= transfrom_rating\n",
    "    return data[['visitorid','itemid','rating']]\n",
    "\n",
    "\n",
    "def RedundantData_VisistorOnlyApper(transform_data):\n",
    "    data_examining = transform_data.copy()\n",
    "    visitorid_size = data_examining.groupby(['visitorid']).size().reset_index(name='Size').sort_values(\"visitorid\")\n",
    "    visitorid_only_appear = visitorid_size[visitorid_size['Size']== 1]['visitorid'].tolist()\n",
    "    data_surprise_remove_only_appear = data_examining[~data_examining['visitorid'].isin(visitorid_only_appear)]\n",
    "    return data_surprise_remove_only_appear\n",
    "\n",
    "\n",
    "\n",
    "def RedundantData_DropDuplicatesFeature(data_surprise_remove_only_appear):\n",
    "    drop_feature = ['visitorid','itemid','rating']\n",
    "    data_surprise_drop_duplicates_3_feature = data_surprise_remove_only_appear.drop_duplicates(subset=drop_feature)\n",
    "    return data_surprise_drop_duplicates_3_feature\n",
    "\n",
    "\n",
    "\n",
    "def RedundantData_SelectMaxRating(data_surprise_drop_duplicates_3_feature):\n",
    "    drop_feature = ['visitorid','itemid']\n",
    "    data_examining = data_surprise_drop_duplicates_3_feature.copy()\n",
    "    data_seclect_max_rating = data_examining.groupby(drop_feature).max()['rating'].reset_index()\n",
    "    return data_seclect_max_rating"
   ]
  },
  {
   "cell_type": "code",
   "execution_count": 29,
   "metadata": {},
   "outputs": [],
   "source": [
    "category_tree, events,item_properties_part = LoadData()\n",
    "transform_data = TransfromData(category_tree, events,item_properties_part)\n",
    "data_surprise_remove_only_appear = RedundantData_VisistorOnlyApper(transform_data)\n",
    "data_surprise_drop_duplicates = RedundantData_DropDuplicatesFeature(data_surprise_remove_only_appear)\n",
    "data_seclect_max_rating = RedundantData_SelectMaxRating(data_surprise_drop_duplicates)"
   ]
  },
  {
   "cell_type": "code",
   "execution_count": 30,
   "metadata": {},
   "outputs": [
    {
     "data": {
      "text/html": [
       "<div>\n",
       "<style scoped>\n",
       "    .dataframe tbody tr th:only-of-type {\n",
       "        vertical-align: middle;\n",
       "    }\n",
       "\n",
       "    .dataframe tbody tr th {\n",
       "        vertical-align: top;\n",
       "    }\n",
       "\n",
       "    .dataframe thead th {\n",
       "        text-align: right;\n",
       "    }\n",
       "</style>\n",
       "<table border=\"1\" class=\"dataframe\">\n",
       "  <thead>\n",
       "    <tr style=\"text-align: right;\">\n",
       "      <th></th>\n",
       "      <th>visitorid</th>\n",
       "      <th>itemid</th>\n",
       "      <th>rating</th>\n",
       "    </tr>\n",
       "  </thead>\n",
       "  <tbody>\n",
       "    <tr>\n",
       "      <th>0</th>\n",
       "      <td>0</td>\n",
       "      <td>67045</td>\n",
       "      <td>1</td>\n",
       "    </tr>\n",
       "    <tr>\n",
       "      <th>1</th>\n",
       "      <td>0</td>\n",
       "      <td>285930</td>\n",
       "      <td>1</td>\n",
       "    </tr>\n",
       "    <tr>\n",
       "      <th>2</th>\n",
       "      <td>0</td>\n",
       "      <td>357564</td>\n",
       "      <td>1</td>\n",
       "    </tr>\n",
       "    <tr>\n",
       "      <th>3</th>\n",
       "      <td>2</td>\n",
       "      <td>216305</td>\n",
       "      <td>1</td>\n",
       "    </tr>\n",
       "    <tr>\n",
       "      <th>4</th>\n",
       "      <td>2</td>\n",
       "      <td>259884</td>\n",
       "      <td>1</td>\n",
       "    </tr>\n",
       "  </tbody>\n",
       "</table>\n",
       "</div>"
      ],
      "text/plain": [
       "   visitorid  itemid  rating\n",
       "0          0   67045       1\n",
       "1          0  285930       1\n",
       "2          0  357564       1\n",
       "3          2  216305       1\n",
       "4          2  259884       1"
      ]
     },
     "execution_count": 30,
     "metadata": {},
     "output_type": "execute_result"
    }
   ],
   "source": [
    "data_seclect_max_rating.head()"
   ]
  },
  {
   "cell_type": "code",
   "execution_count": 31,
   "metadata": {},
   "outputs": [
    {
     "name": "stdout",
     "output_type": "stream",
     "text": [
      "<class 'pandas.core.frame.DataFrame'>\n",
      "RangeIndex: 1143619 entries, 0 to 1143618\n",
      "Data columns (total 3 columns):\n",
      " #   Column     Non-Null Count    Dtype\n",
      "---  ------     --------------    -----\n",
      " 0   visitorid  1143619 non-null  int64\n",
      " 1   itemid     1143619 non-null  int64\n",
      " 2   rating     1143619 non-null  int64\n",
      "dtypes: int64(3)\n",
      "memory usage: 26.2 MB\n"
     ]
    }
   ],
   "source": [
    "data_seclect_max_rating.info()"
   ]
  },
  {
   "cell_type": "code",
   "execution_count": 32,
   "metadata": {},
   "outputs": [],
   "source": [
    "data = data_seclect_max_rating.copy()"
   ]
  },
  {
   "cell_type": "code",
   "execution_count": 33,
   "metadata": {},
   "outputs": [
    {
     "data": {
      "text/html": [
       "<div>\n",
       "<style scoped>\n",
       "    .dataframe tbody tr th:only-of-type {\n",
       "        vertical-align: middle;\n",
       "    }\n",
       "\n",
       "    .dataframe tbody tr th {\n",
       "        vertical-align: top;\n",
       "    }\n",
       "\n",
       "    .dataframe thead th {\n",
       "        text-align: right;\n",
       "    }\n",
       "</style>\n",
       "<table border=\"1\" class=\"dataframe\">\n",
       "  <thead>\n",
       "    <tr style=\"text-align: right;\">\n",
       "      <th></th>\n",
       "      <th>visitorid</th>\n",
       "      <th>itemid</th>\n",
       "      <th>rating</th>\n",
       "    </tr>\n",
       "  </thead>\n",
       "  <tbody>\n",
       "    <tr>\n",
       "      <th>0</th>\n",
       "      <td>0</td>\n",
       "      <td>67045</td>\n",
       "      <td>1</td>\n",
       "    </tr>\n",
       "    <tr>\n",
       "      <th>1</th>\n",
       "      <td>0</td>\n",
       "      <td>285930</td>\n",
       "      <td>1</td>\n",
       "    </tr>\n",
       "    <tr>\n",
       "      <th>2</th>\n",
       "      <td>0</td>\n",
       "      <td>357564</td>\n",
       "      <td>1</td>\n",
       "    </tr>\n",
       "    <tr>\n",
       "      <th>3</th>\n",
       "      <td>2</td>\n",
       "      <td>216305</td>\n",
       "      <td>1</td>\n",
       "    </tr>\n",
       "    <tr>\n",
       "      <th>4</th>\n",
       "      <td>2</td>\n",
       "      <td>259884</td>\n",
       "      <td>1</td>\n",
       "    </tr>\n",
       "  </tbody>\n",
       "</table>\n",
       "</div>"
      ],
      "text/plain": [
       "   visitorid  itemid  rating\n",
       "0          0   67045       1\n",
       "1          0  285930       1\n",
       "2          0  357564       1\n",
       "3          2  216305       1\n",
       "4          2  259884       1"
      ]
     },
     "execution_count": 33,
     "metadata": {},
     "output_type": "execute_result"
    }
   ],
   "source": [
    "data.head()"
   ]
  },
  {
   "cell_type": "markdown",
   "metadata": {},
   "source": [
    "** Model building **\n",
    "+ Interaction and weigth: prepare to add the model\n",
    "+ Create query data: users are not continuous so they need to create a conversion"
   ]
  },
  {
   "cell_type": "code",
   "execution_count": 34,
   "metadata": {},
   "outputs": [],
   "source": [
    "def ProcessData(data_form_pandas):\n",
    "    data_form_pandas.sort_values(by =['visitorid','itemid'], inplace = True)\n",
    "    data_form_pandas.reset_index(drop=True, inplace = True)\n",
    "    return data_form_pandas\n",
    "def Onehot(list_sample):\n",
    "    if(list_sample != 0):\n",
    "        return 1\n",
    "    else:\n",
    "        return 0\n",
    "def CountSame(frist_list, second_list):\n",
    "    return list(set(frist_list).intersection(set(second_list)))\n",
    "def InteractionTransform(transform_data):\n",
    "    data_numpy = np.array(transform_data)\n",
    "    data_lightfm = Dataset()\n",
    "    data_lightfm.fit(users= transform_data['visitorid'].unique(),items= transform_data['itemid'].unique())\n",
    "    interactions, weigths = data_lightfm.build_interactions(\n",
    "        (feature[0],feature[1],feature[2]) for feature in data_numpy)\n",
    "    return interactions, weigths\n",
    "def MergeInteraction(original_data):\n",
    "    interaction, weight = InteractionTransform(original_data)\n",
    "    interaction_user = interaction.row\n",
    "    interaction_item = interaction.col\n",
    "    original_data['transform user'] = interaction_user\n",
    "    original_data['transform item'] = interaction_item\n",
    "    query_data = original_data.copy()\n",
    "    return query_data\n",
    "def BuildLightFmModel(data_form_pandas):\n",
    "    data = data_form_pandas.copy()\n",
    "    model = LightFM(loss='warp')\n",
    "    interaction, weight = InteractionTransform(data)\n",
    "    model.fit_partial(interactions= interaction, sample_weight= weight)\n",
    "    return model"
   ]
  },
  {
   "cell_type": "code",
   "execution_count": 35,
   "metadata": {},
   "outputs": [],
   "source": [
    "data_train, data_test = train_test_split(data, test_size = 0.25)"
   ]
  },
  {
   "cell_type": "markdown",
   "metadata": {},
   "source": [
    "** Due to too many data we only build with data_test **"
   ]
  },
  {
   "cell_type": "code",
   "execution_count": 36,
   "metadata": {},
   "outputs": [
    {
     "data": {
      "text/html": [
       "<div>\n",
       "<style scoped>\n",
       "    .dataframe tbody tr th:only-of-type {\n",
       "        vertical-align: middle;\n",
       "    }\n",
       "\n",
       "    .dataframe tbody tr th {\n",
       "        vertical-align: top;\n",
       "    }\n",
       "\n",
       "    .dataframe thead th {\n",
       "        text-align: right;\n",
       "    }\n",
       "</style>\n",
       "<table border=\"1\" class=\"dataframe\">\n",
       "  <thead>\n",
       "    <tr style=\"text-align: right;\">\n",
       "      <th></th>\n",
       "      <th>visitorid</th>\n",
       "      <th>itemid</th>\n",
       "      <th>rating</th>\n",
       "    </tr>\n",
       "  </thead>\n",
       "  <tbody>\n",
       "    <tr>\n",
       "      <th>957606</th>\n",
       "      <td>1170165</td>\n",
       "      <td>201023</td>\n",
       "      <td>1</td>\n",
       "    </tr>\n",
       "    <tr>\n",
       "      <th>1136142</th>\n",
       "      <td>1397787</td>\n",
       "      <td>308917</td>\n",
       "      <td>1</td>\n",
       "    </tr>\n",
       "    <tr>\n",
       "      <th>411006</th>\n",
       "      <td>504846</td>\n",
       "      <td>413048</td>\n",
       "      <td>1</td>\n",
       "    </tr>\n",
       "    <tr>\n",
       "      <th>806257</th>\n",
       "      <td>985214</td>\n",
       "      <td>215439</td>\n",
       "      <td>1</td>\n",
       "    </tr>\n",
       "    <tr>\n",
       "      <th>933730</th>\n",
       "      <td>1144838</td>\n",
       "      <td>90904</td>\n",
       "      <td>1</td>\n",
       "    </tr>\n",
       "  </tbody>\n",
       "</table>\n",
       "</div>"
      ],
      "text/plain": [
       "         visitorid  itemid  rating\n",
       "957606     1170165  201023       1\n",
       "1136142    1397787  308917       1\n",
       "411006      504846  413048       1\n",
       "806257      985214  215439       1\n",
       "933730     1144838   90904       1"
      ]
     },
     "execution_count": 36,
     "metadata": {},
     "output_type": "execute_result"
    }
   ],
   "source": [
    "data_test.head()"
   ]
  },
  {
   "cell_type": "code",
   "execution_count": 37,
   "metadata": {},
   "outputs": [
    {
     "name": "stdout",
     "output_type": "stream",
     "text": [
      "(285905, 3)\n"
     ]
    }
   ],
   "source": [
    "dataset = data_test.copy()\n",
    "print(dataset.shape)"
   ]
  },
  {
   "cell_type": "code",
   "execution_count": 38,
   "metadata": {},
   "outputs": [
    {
     "name": "stdout",
     "output_type": "stream",
     "text": [
      "   visitorid  itemid  rating\n",
      "0          2  259884       1\n",
      "1          2  325215       1\n",
      "2         46    3780       1\n",
      "3         51  198762       1\n",
      "4         51  358388       1\n"
     ]
    }
   ],
   "source": [
    "data_tuning = ProcessData(dataset)\n",
    "print(data_tuning.head())\n",
    "interactions, weights = InteractionTransform(data_tuning)\n",
    "query_data = MergeInteraction(data_tuning)\n",
    "model_lightfm = BuildLightFmModel(data_tuning)"
   ]
  },
  {
   "cell_type": "code",
   "execution_count": 39,
   "metadata": {},
   "outputs": [
    {
     "data": {
      "text/html": [
       "<div>\n",
       "<style scoped>\n",
       "    .dataframe tbody tr th:only-of-type {\n",
       "        vertical-align: middle;\n",
       "    }\n",
       "\n",
       "    .dataframe tbody tr th {\n",
       "        vertical-align: top;\n",
       "    }\n",
       "\n",
       "    .dataframe thead th {\n",
       "        text-align: right;\n",
       "    }\n",
       "</style>\n",
       "<table border=\"1\" class=\"dataframe\">\n",
       "  <thead>\n",
       "    <tr style=\"text-align: right;\">\n",
       "      <th></th>\n",
       "      <th>visitorid</th>\n",
       "      <th>itemid</th>\n",
       "      <th>rating</th>\n",
       "      <th>transform user</th>\n",
       "      <th>transform item</th>\n",
       "    </tr>\n",
       "  </thead>\n",
       "  <tbody>\n",
       "    <tr>\n",
       "      <th>0</th>\n",
       "      <td>2</td>\n",
       "      <td>259884</td>\n",
       "      <td>1</td>\n",
       "      <td>0</td>\n",
       "      <td>0</td>\n",
       "    </tr>\n",
       "    <tr>\n",
       "      <th>1</th>\n",
       "      <td>2</td>\n",
       "      <td>325215</td>\n",
       "      <td>1</td>\n",
       "      <td>0</td>\n",
       "      <td>1</td>\n",
       "    </tr>\n",
       "    <tr>\n",
       "      <th>2</th>\n",
       "      <td>46</td>\n",
       "      <td>3780</td>\n",
       "      <td>1</td>\n",
       "      <td>1</td>\n",
       "      <td>2</td>\n",
       "    </tr>\n",
       "    <tr>\n",
       "      <th>3</th>\n",
       "      <td>51</td>\n",
       "      <td>198762</td>\n",
       "      <td>1</td>\n",
       "      <td>2</td>\n",
       "      <td>3</td>\n",
       "    </tr>\n",
       "    <tr>\n",
       "      <th>4</th>\n",
       "      <td>51</td>\n",
       "      <td>358388</td>\n",
       "      <td>1</td>\n",
       "      <td>2</td>\n",
       "      <td>4</td>\n",
       "    </tr>\n",
       "  </tbody>\n",
       "</table>\n",
       "</div>"
      ],
      "text/plain": [
       "   visitorid  itemid  rating  transform user  transform item\n",
       "0          2  259884       1               0               0\n",
       "1          2  325215       1               0               1\n",
       "2         46    3780       1               1               2\n",
       "3         51  198762       1               2               3\n",
       "4         51  358388       1               2               4"
      ]
     },
     "execution_count": 39,
     "metadata": {},
     "output_type": "execute_result"
    }
   ],
   "source": [
    "query_data.head()"
   ]
  },
  {
   "cell_type": "code",
   "execution_count": 40,
   "metadata": {},
   "outputs": [
    {
     "data": {
      "text/plain": [
       "<lightfm.lightfm.LightFM at 0x131beabfb08>"
      ]
     },
     "execution_count": 40,
     "metadata": {},
     "output_type": "execute_result"
    }
   ],
   "source": [
    "model_lightfm"
   ]
  },
  {
   "cell_type": "code",
   "execution_count": 41,
   "metadata": {},
   "outputs": [],
   "source": [
    "def PredictModel(lightfm_model, data_model, user_ids, verbose= False):\n",
    "    query_data = MergeInteraction(data_model)\n",
    "    query_user = query_data[query_data['visitorid'].isin(user_ids)]['transform user'].unique()\n",
    "    count = 0\n",
    "    original_item = []\n",
    "    recommend_item = []\n",
    "    item_same = []\n",
    "    length_item_same = []\n",
    "    for user_id in query_user:\n",
    "        known_item = query_data[query_data['transform user'] == user_id]['itemid'].tolist()\n",
    "        item_for_user = query_data['transform item'].unique().tolist()\n",
    "        scores = lightfm_model.predict([user_id], item_for_user)\n",
    "        top_items = query_data['itemid'][np.argsort(-scores)].tolist()\n",
    "        if(verbose == True):\n",
    "            print(\"User %s\" % user_ids[count])\n",
    "            print(\"     Known positives: \",known_item[:5])\n",
    "            print(\"     Recommended: \",top_items[:5])\n",
    "        count+= 1\n",
    "        original_item.append(known_item[:5])\n",
    "        recommend_item.append(top_items[:5])\n",
    "        item_same.append(CountSame(known_item[:5], top_items[:5]))\n",
    "        length_item_same.append(len(CountSame(known_item[:5], top_items[:5])))\n",
    "        \n",
    "    recommend = pd.DataFrame(user_ids, columns={'visitorid'})\n",
    "    recommend['original item'] = original_item\n",
    "    recommend['recommend item'] = recommend_item\n",
    "    recommend['item same'] = item_same\n",
    "    recommend['length'] = length_item_same\n",
    "    recommend['one hot'] = recommend['length'].apply(lambda x: Onehot(x))\n",
    "    return recommend       \n",
    "def Accuracy(recommend_form_pandas):\n",
    "    positive_user = recommend_form_pandas[recommend_form_pandas['length'] != 0].shape[0]\n",
    "    return positive_user/recommend_form_pandas.shape[0]"
   ]
  },
  {
   "cell_type": "code",
   "execution_count": 42,
   "metadata": {},
   "outputs": [
    {
     "data": {
      "text/plain": [
       "[2, 46, 51, 55, 74]"
      ]
     },
     "execution_count": 42,
     "metadata": {},
     "output_type": "execute_result"
    }
   ],
   "source": [
    "user = dataset['visitorid'].unique().tolist()\n",
    "user[:5]"
   ]
  },
  {
   "cell_type": "code",
   "execution_count": 43,
   "metadata": {},
   "outputs": [
    {
     "data": {
      "text/plain": [
       "[2, 46, 51, 55, 74]"
      ]
     },
     "execution_count": 43,
     "metadata": {},
     "output_type": "execute_result"
    }
   ],
   "source": [
    "user = query_data['visitorid'].unique().tolist()\n",
    "user[:5]"
   ]
  },
  {
   "cell_type": "code",
   "execution_count": 44,
   "metadata": {},
   "outputs": [],
   "source": [
    "recommend_data = PredictModel(model_lightfm, dataset, user[:5000])"
   ]
  },
  {
   "cell_type": "code",
   "execution_count": 45,
   "metadata": {},
   "outputs": [
    {
     "data": {
      "text/html": [
       "<div>\n",
       "<style scoped>\n",
       "    .dataframe tbody tr th:only-of-type {\n",
       "        vertical-align: middle;\n",
       "    }\n",
       "\n",
       "    .dataframe tbody tr th {\n",
       "        vertical-align: top;\n",
       "    }\n",
       "\n",
       "    .dataframe thead th {\n",
       "        text-align: right;\n",
       "    }\n",
       "</style>\n",
       "<table border=\"1\" class=\"dataframe\">\n",
       "  <thead>\n",
       "    <tr style=\"text-align: right;\">\n",
       "      <th></th>\n",
       "      <th>visitorid</th>\n",
       "      <th>original item</th>\n",
       "      <th>recommend item</th>\n",
       "      <th>item same</th>\n",
       "      <th>length</th>\n",
       "      <th>one hot</th>\n",
       "    </tr>\n",
       "  </thead>\n",
       "  <tbody>\n",
       "    <tr>\n",
       "      <th>0</th>\n",
       "      <td>2</td>\n",
       "      <td>[259884, 325215]</td>\n",
       "      <td>[218794, 33695, 408737, 234255, 309778]</td>\n",
       "      <td>[]</td>\n",
       "      <td>0</td>\n",
       "      <td>0</td>\n",
       "    </tr>\n",
       "    <tr>\n",
       "      <th>1</th>\n",
       "      <td>46</td>\n",
       "      <td>[3780]</td>\n",
       "      <td>[218794, 33695, 408737, 29940, 234255]</td>\n",
       "      <td>[]</td>\n",
       "      <td>0</td>\n",
       "      <td>0</td>\n",
       "    </tr>\n",
       "    <tr>\n",
       "      <th>2</th>\n",
       "      <td>51</td>\n",
       "      <td>[198762, 358388, 429304]</td>\n",
       "      <td>[218794, 33695, 408737, 309778, 234255]</td>\n",
       "      <td>[]</td>\n",
       "      <td>0</td>\n",
       "      <td>0</td>\n",
       "    </tr>\n",
       "    <tr>\n",
       "      <th>3</th>\n",
       "      <td>55</td>\n",
       "      <td>[399556]</td>\n",
       "      <td>[218794, 33695, 309778, 408737, 234255]</td>\n",
       "      <td>[]</td>\n",
       "      <td>0</td>\n",
       "      <td>0</td>\n",
       "    </tr>\n",
       "    <tr>\n",
       "      <th>4</th>\n",
       "      <td>74</td>\n",
       "      <td>[55826]</td>\n",
       "      <td>[218794, 33695, 408737, 29940, 234255]</td>\n",
       "      <td>[]</td>\n",
       "      <td>0</td>\n",
       "      <td>0</td>\n",
       "    </tr>\n",
       "  </tbody>\n",
       "</table>\n",
       "</div>"
      ],
      "text/plain": [
       "   visitorid             original item  \\\n",
       "0          2          [259884, 325215]   \n",
       "1         46                    [3780]   \n",
       "2         51  [198762, 358388, 429304]   \n",
       "3         55                  [399556]   \n",
       "4         74                   [55826]   \n",
       "\n",
       "                            recommend item item same  length  one hot  \n",
       "0  [218794, 33695, 408737, 234255, 309778]        []       0        0  \n",
       "1   [218794, 33695, 408737, 29940, 234255]        []       0        0  \n",
       "2  [218794, 33695, 408737, 309778, 234255]        []       0        0  \n",
       "3  [218794, 33695, 309778, 408737, 234255]        []       0        0  \n",
       "4   [218794, 33695, 408737, 29940, 234255]        []       0        0  "
      ]
     },
     "execution_count": 45,
     "metadata": {},
     "output_type": "execute_result"
    }
   ],
   "source": [
    "recommend_data.head()"
   ]
  },
  {
   "cell_type": "code",
   "execution_count": 46,
   "metadata": {},
   "outputs": [
    {
     "data": {
      "text/html": [
       "<div>\n",
       "<style scoped>\n",
       "    .dataframe tbody tr th:only-of-type {\n",
       "        vertical-align: middle;\n",
       "    }\n",
       "\n",
       "    .dataframe tbody tr th {\n",
       "        vertical-align: top;\n",
       "    }\n",
       "\n",
       "    .dataframe thead th {\n",
       "        text-align: right;\n",
       "    }\n",
       "</style>\n",
       "<table border=\"1\" class=\"dataframe\">\n",
       "  <thead>\n",
       "    <tr style=\"text-align: right;\">\n",
       "      <th></th>\n",
       "      <th>visitorid</th>\n",
       "      <th>itemid</th>\n",
       "      <th>rating</th>\n",
       "      <th>transform user</th>\n",
       "      <th>transform item</th>\n",
       "    </tr>\n",
       "  </thead>\n",
       "  <tbody>\n",
       "    <tr>\n",
       "      <th>90</th>\n",
       "      <td>553</td>\n",
       "      <td>104746</td>\n",
       "      <td>1</td>\n",
       "      <td>63</td>\n",
       "      <td>90</td>\n",
       "    </tr>\n",
       "  </tbody>\n",
       "</table>\n",
       "</div>"
      ],
      "text/plain": [
       "    visitorid  itemid  rating  transform user  transform item\n",
       "90        553  104746       1              63              90"
      ]
     },
     "execution_count": 46,
     "metadata": {},
     "output_type": "execute_result"
    }
   ],
   "source": [
    "dataset[dataset['visitorid']==553]\n"
   ]
  },
  {
   "cell_type": "code",
   "execution_count": 47,
   "metadata": {},
   "outputs": [
    {
     "data": {
      "text/html": [
       "<div>\n",
       "<style scoped>\n",
       "    .dataframe tbody tr th:only-of-type {\n",
       "        vertical-align: middle;\n",
       "    }\n",
       "\n",
       "    .dataframe tbody tr th {\n",
       "        vertical-align: top;\n",
       "    }\n",
       "\n",
       "    .dataframe thead th {\n",
       "        text-align: right;\n",
       "    }\n",
       "</style>\n",
       "<table border=\"1\" class=\"dataframe\">\n",
       "  <thead>\n",
       "    <tr style=\"text-align: right;\">\n",
       "      <th></th>\n",
       "      <th>visitorid</th>\n",
       "      <th>original item</th>\n",
       "      <th>recommend item</th>\n",
       "      <th>item same</th>\n",
       "      <th>length</th>\n",
       "      <th>one hot</th>\n",
       "    </tr>\n",
       "  </thead>\n",
       "  <tbody>\n",
       "    <tr>\n",
       "      <th>23</th>\n",
       "      <td>230</td>\n",
       "      <td>[234255, 395845]</td>\n",
       "      <td>[218794, 408737, 33695, 234255, 309778]</td>\n",
       "      <td>[234255]</td>\n",
       "      <td>1</td>\n",
       "      <td>1</td>\n",
       "    </tr>\n",
       "    <tr>\n",
       "      <th>51</th>\n",
       "      <td>479</td>\n",
       "      <td>[309778]</td>\n",
       "      <td>[218794, 33695, 408737, 309778, 234255]</td>\n",
       "      <td>[309778]</td>\n",
       "      <td>1</td>\n",
       "      <td>1</td>\n",
       "    </tr>\n",
       "    <tr>\n",
       "      <th>132</th>\n",
       "      <td>1136</td>\n",
       "      <td>[211422, 309778, 412280]</td>\n",
       "      <td>[218794, 33695, 408737, 309778, 234255]</td>\n",
       "      <td>[309778]</td>\n",
       "      <td>1</td>\n",
       "      <td>1</td>\n",
       "    </tr>\n",
       "    <tr>\n",
       "      <th>620</th>\n",
       "      <td>4716</td>\n",
       "      <td>[408737]</td>\n",
       "      <td>[33695, 218794, 408737, 234255, 29940]</td>\n",
       "      <td>[408737]</td>\n",
       "      <td>1</td>\n",
       "      <td>1</td>\n",
       "    </tr>\n",
       "    <tr>\n",
       "      <th>924</th>\n",
       "      <td>6952</td>\n",
       "      <td>[218794]</td>\n",
       "      <td>[218794, 33695, 408737, 234255, 309778]</td>\n",
       "      <td>[218794]</td>\n",
       "      <td>1</td>\n",
       "      <td>1</td>\n",
       "    </tr>\n",
       "    <tr>\n",
       "      <th>1206</th>\n",
       "      <td>8938</td>\n",
       "      <td>[234255]</td>\n",
       "      <td>[33695, 218794, 408737, 234255, 29940]</td>\n",
       "      <td>[234255]</td>\n",
       "      <td>1</td>\n",
       "      <td>1</td>\n",
       "    </tr>\n",
       "    <tr>\n",
       "      <th>1237</th>\n",
       "      <td>9106</td>\n",
       "      <td>[14555, 33695]</td>\n",
       "      <td>[218794, 33695, 408737, 29940, 234255]</td>\n",
       "      <td>[33695]</td>\n",
       "      <td>1</td>\n",
       "      <td>1</td>\n",
       "    </tr>\n",
       "    <tr>\n",
       "      <th>1812</th>\n",
       "      <td>13660</td>\n",
       "      <td>[34915, 64951, 218626, 278893, 290999]</td>\n",
       "      <td>[218794, 408737, 290999, 33695, 234255]</td>\n",
       "      <td>[290999]</td>\n",
       "      <td>1</td>\n",
       "      <td>1</td>\n",
       "    </tr>\n",
       "    <tr>\n",
       "      <th>1840</th>\n",
       "      <td>13848</td>\n",
       "      <td>[78883, 290999]</td>\n",
       "      <td>[33695, 408737, 218794, 234255, 290999]</td>\n",
       "      <td>[290999]</td>\n",
       "      <td>1</td>\n",
       "      <td>1</td>\n",
       "    </tr>\n",
       "    <tr>\n",
       "      <th>3605</th>\n",
       "      <td>26998</td>\n",
       "      <td>[231482, 234255]</td>\n",
       "      <td>[33695, 408737, 218794, 234255, 29940]</td>\n",
       "      <td>[234255]</td>\n",
       "      <td>1</td>\n",
       "      <td>1</td>\n",
       "    </tr>\n",
       "    <tr>\n",
       "      <th>4093</th>\n",
       "      <td>30858</td>\n",
       "      <td>[88606, 309778]</td>\n",
       "      <td>[218794, 33695, 408737, 309778, 234255]</td>\n",
       "      <td>[309778]</td>\n",
       "      <td>1</td>\n",
       "      <td>1</td>\n",
       "    </tr>\n",
       "  </tbody>\n",
       "</table>\n",
       "</div>"
      ],
      "text/plain": [
       "      visitorid                           original item  \\\n",
       "23          230                        [234255, 395845]   \n",
       "51          479                                [309778]   \n",
       "132        1136                [211422, 309778, 412280]   \n",
       "620        4716                                [408737]   \n",
       "924        6952                                [218794]   \n",
       "1206       8938                                [234255]   \n",
       "1237       9106                          [14555, 33695]   \n",
       "1812      13660  [34915, 64951, 218626, 278893, 290999]   \n",
       "1840      13848                         [78883, 290999]   \n",
       "3605      26998                        [231482, 234255]   \n",
       "4093      30858                         [88606, 309778]   \n",
       "\n",
       "                               recommend item item same  length  one hot  \n",
       "23    [218794, 408737, 33695, 234255, 309778]  [234255]       1        1  \n",
       "51    [218794, 33695, 408737, 309778, 234255]  [309778]       1        1  \n",
       "132   [218794, 33695, 408737, 309778, 234255]  [309778]       1        1  \n",
       "620    [33695, 218794, 408737, 234255, 29940]  [408737]       1        1  \n",
       "924   [218794, 33695, 408737, 234255, 309778]  [218794]       1        1  \n",
       "1206   [33695, 218794, 408737, 234255, 29940]  [234255]       1        1  \n",
       "1237   [218794, 33695, 408737, 29940, 234255]   [33695]       1        1  \n",
       "1812  [218794, 408737, 290999, 33695, 234255]  [290999]       1        1  \n",
       "1840  [33695, 408737, 218794, 234255, 290999]  [290999]       1        1  \n",
       "3605   [33695, 408737, 218794, 234255, 29940]  [234255]       1        1  \n",
       "4093  [218794, 33695, 408737, 309778, 234255]  [309778]       1        1  "
      ]
     },
     "execution_count": 47,
     "metadata": {},
     "output_type": "execute_result"
    }
   ],
   "source": [
    "recommend_data[recommend_data['length'] != 0]"
   ]
  },
  {
   "cell_type": "code",
   "execution_count": 48,
   "metadata": {},
   "outputs": [
    {
     "name": "stdout",
     "output_type": "stream",
     "text": [
      "ACC :  0.0022\n"
     ]
    }
   ],
   "source": [
    "print(\"ACC : \",Accuracy(recommend_data))"
   ]
  },
  {
   "cell_type": "markdown",
   "metadata": {},
   "source": [
    "+ The accuracy of 500 samples is too low\n"
   ]
  },
  {
   "cell_type": "code",
   "execution_count": null,
   "metadata": {},
   "outputs": [],
   "source": []
  }
 ],
 "metadata": {
  "kernelspec": {
   "display_name": "Python 3",
   "language": "python",
   "name": "python3"
  },
  "language_info": {
   "codemirror_mode": {
    "name": "ipython",
    "version": 3
   },
   "file_extension": ".py",
   "mimetype": "text/x-python",
   "name": "python",
   "nbconvert_exporter": "python",
   "pygments_lexer": "ipython3",
   "version": "3.7.7"
  }
 },
 "nbformat": 4,
 "nbformat_minor": 4
}
