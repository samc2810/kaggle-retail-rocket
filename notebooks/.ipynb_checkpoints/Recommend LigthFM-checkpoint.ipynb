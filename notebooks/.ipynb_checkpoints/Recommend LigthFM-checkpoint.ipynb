{
 "cells": [
  {
   "cell_type": "code",
   "execution_count": 1,
   "metadata": {
    "_cell_guid": "b1076dfc-b9ad-4769-8c92-a6c4dae69d19",
    "_uuid": "8f2839f25d086af736a60e9eeb907d3b93b6e0e5"
   },
   "outputs": [
    {
     "name": "stderr",
     "output_type": "stream",
     "text": [
      "C:\\Users\\samir\\anaconda3\\envs\\retail-rocket\\lib\\site-packages\\lightfm\\_lightfm_fast.py:9: UserWarning: LightFM was compiled without OpenMP support. Only a single thread will be used.\n",
      "  warnings.warn('LightFM was compiled without OpenMP support. '\n"
     ]
    },
    {
     "name": "stdout",
     "output_type": "stream",
     "text": [
      "['category_tree.csv', 'events.csv', 'item_properties_part1.csv', 'item_properties_part2.csv']\n"
     ]
    }
   ],
   "source": [
    "# This Python 3 environment comes with many helpful analytics libraries installed\n",
    "# It is defined by the kaggle/python docker image: https://github.com/kaggle/docker-python\n",
    "# For example, here's several helpful packages to load in \n",
    "from lightfm import LightFM\n",
    "from lightfm.data import Dataset\n",
    "from sklearn.model_selection import train_test_split\n",
    "import numpy as np # linear algebra\n",
    "import pandas as pd # data processing, CSV file I/O (e.g. pd.read_csv)\n",
    "# Input data files are available in the \"../input/\" directory.\n",
    "# For example, running this (by clicking run or pressing Shift+Enter) will list the files in the input directory\n",
    "\n",
    "import os\n",
    "\n",
    "\n",
    "print(os.listdir(\"../data\"))\n",
    "\n",
    "# Any results you write to the current directory are saved as output."
   ]
  },
  {
   "cell_type": "markdown",
   "metadata": {},
   "source": [
    "** Preprocessing data **\n",
    "+ Remove user that appears once\n",
    "+ Remove the same index\n",
    "+ Lots of visitorid and itemd have the largest rating"
   ]
  },
  {
   "cell_type": "code",
   "execution_count": 2,
   "metadata": {},
   "outputs": [],
   "source": [
    "def LoadData():\n",
    "    category_tree = pd.read_csv(\"../data/category_tree.csv\", header= 0)\n",
    "    events = pd.read_csv(\"../data/events.csv\", header= 0)\n",
    "    item_properties_part1 = pd.read_csv(\"../data/item_properties_part1.csv\", header= 0)\n",
    "    item_properties_part2 = pd.read_csv(\"../data/item_properties_part2.csv\", header= 0)\n",
    "    item_properties_part = pd.concat([item_properties_part1, item_properties_part2])\n",
    "    return category_tree, events,item_properties_part\n",
    "\n",
    "\n",
    "def TransfromData(category_tree, events,item_properties_part):\n",
    "    data_raw = events[['visitorid','event','itemid']]\n",
    "    data = data_raw.copy()\n",
    "    transfrom_rating = []\n",
    "    for event in data.event:\n",
    "        if(event == 'view'):\n",
    "            transfrom_rating.append(1)\n",
    "        if(event == 'addtocart'):\n",
    "            transfrom_rating.append(2)\n",
    "        if(event == 'transaction'):\n",
    "            transfrom_rating.append(3)\n",
    "    data['rating']= transfrom_rating\n",
    "    return data[['visitorid','itemid','rating']]\n",
    "\n",
    "\n",
    "def RedundantData_VisistorOnlyApper(transform_data):\n",
    "    data_examining = transform_data.copy()\n",
    "    visitorid_size = data_examining.groupby(['visitorid']).size().reset_index(name='Size').sort_values(\"visitorid\")\n",
    "    visitorid_only_appear = visitorid_size[visitorid_size['Size']== 1]['visitorid'].tolist()\n",
    "    data_surprise_remove_only_appear = data_examining[~data_examining['visitorid'].isin(visitorid_only_appear)]\n",
    "    return data_surprise_remove_only_appear\n",
    "\n",
    "\n",
    "\n",
    "def RedundantData_DropDuplicatesFeature(data_surprise_remove_only_appear):\n",
    "    drop_feature = ['visitorid','itemid','rating']\n",
    "    data_surprise_drop_duplicates_3_feature = data_surprise_remove_only_appear.drop_duplicates(subset=drop_feature)\n",
    "    return data_surprise_drop_duplicates_3_feature\n",
    "\n",
    "\n",
    "\n",
    "def RedundantData_SelectMaxRating(data_surprise_drop_duplicates_3_feature):\n",
    "    drop_feature = ['visitorid','itemid']\n",
    "    data_examining = data_surprise_drop_duplicates_3_feature.copy()\n",
    "    data_seclect_max_rating = data_examining.groupby(drop_feature).max()['rating'].reset_index()\n",
    "    return data_seclect_max_rating"
   ]
  },
  {
   "cell_type": "code",
   "execution_count": 3,
   "metadata": {},
   "outputs": [],
   "source": [
    "category_tree, events,item_properties_part = LoadData()\n",
    "transform_data = TransfromData(category_tree, events,item_properties_part)\n",
    "data_surprise_remove_only_appear = RedundantData_VisistorOnlyApper(transform_data)\n",
    "data_surprise_drop_duplicates = RedundantData_DropDuplicatesFeature(data_surprise_remove_only_appear)\n",
    "data_seclect_max_rating = RedundantData_SelectMaxRating(data_surprise_drop_duplicates)"
   ]
  },
  {
   "cell_type": "code",
   "execution_count": 4,
   "metadata": {},
   "outputs": [
    {
     "data": {
      "text/html": [
       "<div>\n",
       "<style scoped>\n",
       "    .dataframe tbody tr th:only-of-type {\n",
       "        vertical-align: middle;\n",
       "    }\n",
       "\n",
       "    .dataframe tbody tr th {\n",
       "        vertical-align: top;\n",
       "    }\n",
       "\n",
       "    .dataframe thead th {\n",
       "        text-align: right;\n",
       "    }\n",
       "</style>\n",
       "<table border=\"1\" class=\"dataframe\">\n",
       "  <thead>\n",
       "    <tr style=\"text-align: right;\">\n",
       "      <th></th>\n",
       "      <th>visitorid</th>\n",
       "      <th>itemid</th>\n",
       "      <th>rating</th>\n",
       "    </tr>\n",
       "  </thead>\n",
       "  <tbody>\n",
       "    <tr>\n",
       "      <th>0</th>\n",
       "      <td>0</td>\n",
       "      <td>67045</td>\n",
       "      <td>1</td>\n",
       "    </tr>\n",
       "    <tr>\n",
       "      <th>1</th>\n",
       "      <td>0</td>\n",
       "      <td>285930</td>\n",
       "      <td>1</td>\n",
       "    </tr>\n",
       "    <tr>\n",
       "      <th>2</th>\n",
       "      <td>0</td>\n",
       "      <td>357564</td>\n",
       "      <td>1</td>\n",
       "    </tr>\n",
       "    <tr>\n",
       "      <th>3</th>\n",
       "      <td>2</td>\n",
       "      <td>216305</td>\n",
       "      <td>1</td>\n",
       "    </tr>\n",
       "    <tr>\n",
       "      <th>4</th>\n",
       "      <td>2</td>\n",
       "      <td>259884</td>\n",
       "      <td>1</td>\n",
       "    </tr>\n",
       "  </tbody>\n",
       "</table>\n",
       "</div>"
      ],
      "text/plain": [
       "   visitorid  itemid  rating\n",
       "0          0   67045       1\n",
       "1          0  285930       1\n",
       "2          0  357564       1\n",
       "3          2  216305       1\n",
       "4          2  259884       1"
      ]
     },
     "execution_count": 4,
     "metadata": {},
     "output_type": "execute_result"
    }
   ],
   "source": [
    "data_seclect_max_rating.head()"
   ]
  },
  {
   "cell_type": "code",
   "execution_count": 5,
   "metadata": {},
   "outputs": [
    {
     "name": "stdout",
     "output_type": "stream",
     "text": [
      "<class 'pandas.core.frame.DataFrame'>\n",
      "RangeIndex: 1143619 entries, 0 to 1143618\n",
      "Data columns (total 3 columns):\n",
      " #   Column     Non-Null Count    Dtype\n",
      "---  ------     --------------    -----\n",
      " 0   visitorid  1143619 non-null  int64\n",
      " 1   itemid     1143619 non-null  int64\n",
      " 2   rating     1143619 non-null  int64\n",
      "dtypes: int64(3)\n",
      "memory usage: 26.2 MB\n"
     ]
    }
   ],
   "source": [
    "data_seclect_max_rating.info()"
   ]
  },
  {
   "cell_type": "code",
   "execution_count": 6,
   "metadata": {},
   "outputs": [],
   "source": [
    "data = data_seclect_max_rating.copy()"
   ]
  },
  {
   "cell_type": "code",
   "execution_count": 7,
   "metadata": {},
   "outputs": [
    {
     "data": {
      "text/html": [
       "<div>\n",
       "<style scoped>\n",
       "    .dataframe tbody tr th:only-of-type {\n",
       "        vertical-align: middle;\n",
       "    }\n",
       "\n",
       "    .dataframe tbody tr th {\n",
       "        vertical-align: top;\n",
       "    }\n",
       "\n",
       "    .dataframe thead th {\n",
       "        text-align: right;\n",
       "    }\n",
       "</style>\n",
       "<table border=\"1\" class=\"dataframe\">\n",
       "  <thead>\n",
       "    <tr style=\"text-align: right;\">\n",
       "      <th></th>\n",
       "      <th>visitorid</th>\n",
       "      <th>itemid</th>\n",
       "      <th>rating</th>\n",
       "    </tr>\n",
       "  </thead>\n",
       "  <tbody>\n",
       "    <tr>\n",
       "      <th>0</th>\n",
       "      <td>0</td>\n",
       "      <td>67045</td>\n",
       "      <td>1</td>\n",
       "    </tr>\n",
       "    <tr>\n",
       "      <th>1</th>\n",
       "      <td>0</td>\n",
       "      <td>285930</td>\n",
       "      <td>1</td>\n",
       "    </tr>\n",
       "    <tr>\n",
       "      <th>2</th>\n",
       "      <td>0</td>\n",
       "      <td>357564</td>\n",
       "      <td>1</td>\n",
       "    </tr>\n",
       "    <tr>\n",
       "      <th>3</th>\n",
       "      <td>2</td>\n",
       "      <td>216305</td>\n",
       "      <td>1</td>\n",
       "    </tr>\n",
       "    <tr>\n",
       "      <th>4</th>\n",
       "      <td>2</td>\n",
       "      <td>259884</td>\n",
       "      <td>1</td>\n",
       "    </tr>\n",
       "  </tbody>\n",
       "</table>\n",
       "</div>"
      ],
      "text/plain": [
       "   visitorid  itemid  rating\n",
       "0          0   67045       1\n",
       "1          0  285930       1\n",
       "2          0  357564       1\n",
       "3          2  216305       1\n",
       "4          2  259884       1"
      ]
     },
     "execution_count": 7,
     "metadata": {},
     "output_type": "execute_result"
    }
   ],
   "source": [
    "data.head()"
   ]
  },
  {
   "cell_type": "markdown",
   "metadata": {},
   "source": [
    "** Model building **\n",
    "+ Interaction and weigth: prepare to add the model\n",
    "+ Create query data: users are not continuous so they need to create a conversion"
   ]
  },
  {
   "cell_type": "code",
   "execution_count": 8,
   "metadata": {},
   "outputs": [],
   "source": [
    "def ProcessData(data_form_pandas):\n",
    "    data_form_pandas.sort_values(by =['visitorid','itemid'], inplace = True)\n",
    "    data_form_pandas.reset_index(drop=True, inplace = True)\n",
    "    return data_form_pandas\n",
    "def Onehot(list_sample):\n",
    "    if(list_sample != 0):\n",
    "        return 1\n",
    "    else:\n",
    "        return 0\n",
    "def CountSame(frist_list, second_list):\n",
    "    return list(set(frist_list).intersection(set(second_list)))\n",
    "def InteractionTransform(transform_data):\n",
    "    data_numpy = np.array(transform_data)\n",
    "    data_lightfm = Dataset()\n",
    "    data_lightfm.fit(users= transform_data['visitorid'].unique(),items= transform_data['itemid'].unique())\n",
    "    interactions, weigths = data_lightfm.build_interactions(\n",
    "        (feature[0],feature[1],feature[2]) for feature in data_numpy)\n",
    "    return interactions, weigths\n",
    "def MergeInteraction(original_data):\n",
    "    interaction, weight = InteractionTransform(original_data)\n",
    "    interaction_user = interaction.row\n",
    "    interaction_item = interaction.col\n",
    "    original_data['transform user'] = interaction_user\n",
    "    original_data['transform item'] = interaction_item\n",
    "    query_data = original_data.copy()\n",
    "    return query_data\n",
    "def BuildLightFmModel(data_form_pandas):\n",
    "    data = data_form_pandas.copy()\n",
    "    model = LightFM(loss='warp')\n",
    "    interaction, weight = InteractionTransform(data)\n",
    "    model.fit_partial(interactions= interaction, sample_weight= weight)\n",
    "    return model"
   ]
  },
  {
   "cell_type": "code",
   "execution_count": 9,
   "metadata": {},
   "outputs": [],
   "source": [
    "data_train, data_test = train_test_split(data, test_size = 0.5)"
   ]
  },
  {
   "cell_type": "markdown",
   "metadata": {},
   "source": [
    "** Due to too many data we only build with data_test **"
   ]
  },
  {
   "cell_type": "code",
   "execution_count": 10,
   "metadata": {},
   "outputs": [
    {
     "data": {
      "text/html": [
       "<div>\n",
       "<style scoped>\n",
       "    .dataframe tbody tr th:only-of-type {\n",
       "        vertical-align: middle;\n",
       "    }\n",
       "\n",
       "    .dataframe tbody tr th {\n",
       "        vertical-align: top;\n",
       "    }\n",
       "\n",
       "    .dataframe thead th {\n",
       "        text-align: right;\n",
       "    }\n",
       "</style>\n",
       "<table border=\"1\" class=\"dataframe\">\n",
       "  <thead>\n",
       "    <tr style=\"text-align: right;\">\n",
       "      <th></th>\n",
       "      <th>visitorid</th>\n",
       "      <th>itemid</th>\n",
       "      <th>rating</th>\n",
       "    </tr>\n",
       "  </thead>\n",
       "  <tbody>\n",
       "    <tr>\n",
       "      <th>989950</th>\n",
       "      <td>1212402</td>\n",
       "      <td>447673</td>\n",
       "      <td>1</td>\n",
       "    </tr>\n",
       "    <tr>\n",
       "      <th>687779</th>\n",
       "      <td>842700</td>\n",
       "      <td>137975</td>\n",
       "      <td>1</td>\n",
       "    </tr>\n",
       "    <tr>\n",
       "      <th>473009</th>\n",
       "      <td>576721</td>\n",
       "      <td>128602</td>\n",
       "      <td>1</td>\n",
       "    </tr>\n",
       "    <tr>\n",
       "      <th>1025394</th>\n",
       "      <td>1258515</td>\n",
       "      <td>339517</td>\n",
       "      <td>1</td>\n",
       "    </tr>\n",
       "    <tr>\n",
       "      <th>254051</th>\n",
       "      <td>310759</td>\n",
       "      <td>313230</td>\n",
       "      <td>1</td>\n",
       "    </tr>\n",
       "  </tbody>\n",
       "</table>\n",
       "</div>"
      ],
      "text/plain": [
       "         visitorid  itemid  rating\n",
       "989950     1212402  447673       1\n",
       "687779      842700  137975       1\n",
       "473009      576721  128602       1\n",
       "1025394    1258515  339517       1\n",
       "254051      310759  313230       1"
      ]
     },
     "execution_count": 10,
     "metadata": {},
     "output_type": "execute_result"
    }
   ],
   "source": [
    "data_test.head()"
   ]
  },
  {
   "cell_type": "code",
   "execution_count": 11,
   "metadata": {},
   "outputs": [],
   "source": [
    "dataset = data_test.copy()"
   ]
  },
  {
   "cell_type": "code",
   "execution_count": 12,
   "metadata": {},
   "outputs": [
    {
     "name": "stdout",
     "output_type": "stream",
     "text": [
      "   visitorid  itemid  rating\n",
      "0          2  216305       1\n",
      "1          6   65273       2\n",
      "2          7  139394       1\n",
      "3         13  320589       1\n",
      "4         37  168952       1\n"
     ]
    }
   ],
   "source": [
    "data_tuning = ProcessData(dataset)\n",
    "print(data_tuning.head())\n",
    "interactions, weights = InteractionTransform(data_tuning)\n",
    "query_data = MergeInteraction(data_tuning)\n",
    "model_lightfm = BuildLightFmModel(data_tuning)"
   ]
  },
  {
   "cell_type": "code",
   "execution_count": 13,
   "metadata": {},
   "outputs": [
    {
     "data": {
      "text/html": [
       "<div>\n",
       "<style scoped>\n",
       "    .dataframe tbody tr th:only-of-type {\n",
       "        vertical-align: middle;\n",
       "    }\n",
       "\n",
       "    .dataframe tbody tr th {\n",
       "        vertical-align: top;\n",
       "    }\n",
       "\n",
       "    .dataframe thead th {\n",
       "        text-align: right;\n",
       "    }\n",
       "</style>\n",
       "<table border=\"1\" class=\"dataframe\">\n",
       "  <thead>\n",
       "    <tr style=\"text-align: right;\">\n",
       "      <th></th>\n",
       "      <th>visitorid</th>\n",
       "      <th>itemid</th>\n",
       "      <th>rating</th>\n",
       "      <th>transform user</th>\n",
       "      <th>transform item</th>\n",
       "    </tr>\n",
       "  </thead>\n",
       "  <tbody>\n",
       "    <tr>\n",
       "      <th>0</th>\n",
       "      <td>2</td>\n",
       "      <td>216305</td>\n",
       "      <td>1</td>\n",
       "      <td>0</td>\n",
       "      <td>0</td>\n",
       "    </tr>\n",
       "    <tr>\n",
       "      <th>1</th>\n",
       "      <td>6</td>\n",
       "      <td>65273</td>\n",
       "      <td>2</td>\n",
       "      <td>1</td>\n",
       "      <td>1</td>\n",
       "    </tr>\n",
       "    <tr>\n",
       "      <th>2</th>\n",
       "      <td>7</td>\n",
       "      <td>139394</td>\n",
       "      <td>1</td>\n",
       "      <td>2</td>\n",
       "      <td>2</td>\n",
       "    </tr>\n",
       "    <tr>\n",
       "      <th>3</th>\n",
       "      <td>13</td>\n",
       "      <td>320589</td>\n",
       "      <td>1</td>\n",
       "      <td>3</td>\n",
       "      <td>3</td>\n",
       "    </tr>\n",
       "    <tr>\n",
       "      <th>4</th>\n",
       "      <td>37</td>\n",
       "      <td>168952</td>\n",
       "      <td>1</td>\n",
       "      <td>4</td>\n",
       "      <td>4</td>\n",
       "    </tr>\n",
       "  </tbody>\n",
       "</table>\n",
       "</div>"
      ],
      "text/plain": [
       "   visitorid  itemid  rating  transform user  transform item\n",
       "0          2  216305       1               0               0\n",
       "1          6   65273       2               1               1\n",
       "2          7  139394       1               2               2\n",
       "3         13  320589       1               3               3\n",
       "4         37  168952       1               4               4"
      ]
     },
     "execution_count": 13,
     "metadata": {},
     "output_type": "execute_result"
    }
   ],
   "source": [
    "query_data.head()"
   ]
  },
  {
   "cell_type": "code",
   "execution_count": 14,
   "metadata": {},
   "outputs": [
    {
     "data": {
      "text/plain": [
       "<lightfm.lightfm.LightFM at 0x20101553848>"
      ]
     },
     "execution_count": 14,
     "metadata": {},
     "output_type": "execute_result"
    }
   ],
   "source": [
    "model_lightfm"
   ]
  },
  {
   "cell_type": "code",
   "execution_count": 15,
   "metadata": {},
   "outputs": [],
   "source": [
    "def PredictModel(lightfm_model, data_model, user_ids, verbose= False):\n",
    "    query_data = MergeInteraction(data_model)\n",
    "    query_user = query_data[query_data['visitorid'].isin(user_ids)]['transform user'].unique()\n",
    "    count = 0\n",
    "    original_item = []\n",
    "    recommend_item = []\n",
    "    item_same = []\n",
    "    length_item_same = []\n",
    "    for user_id in query_user:\n",
    "        known_item = query_data[query_data['transform user'] == user_id]['itemid'].tolist()\n",
    "        item_for_user = query_data['transform item'].unique().tolist()\n",
    "        scores = lightfm_model.predict([user_id], item_for_user)\n",
    "        top_items = query_data['itemid'][np.argsort(-scores)].tolist()\n",
    "        if(verbose == True):\n",
    "            print(\"User %s\" % user_ids[count])\n",
    "            print(\"     Known positives: \",known_item[:5])\n",
    "            print(\"     Recommended: \",top_items[:5])\n",
    "        count+= 1\n",
    "        original_item.append(known_item[:5])\n",
    "        recommend_item.append(top_items[:5])\n",
    "        item_same.append(CountSame(known_item[:5], top_items[:5]))\n",
    "        length_item_same.append(len(CountSame(known_item[:5], top_items[:5])))\n",
    "        \n",
    "    recommend = pd.DataFrame(user_ids, columns={'visitorid'})\n",
    "    recommend['original item'] = original_item\n",
    "    recommend['recommend item'] = recommend_item\n",
    "    recommend['item same'] = item_same\n",
    "    recommend['length'] = length_item_same\n",
    "    recommend['one hot'] = recommend['length'].apply(lambda x: Onehot(x))\n",
    "    return recommend       \n",
    "def Accuracy(recommend_form_pandas):\n",
    "    positive_user = recommend_form_pandas[recommend_form_pandas['length'] != 0].shape[0]\n",
    "    return positive_user/recommend_form_pandas.shape[0]"
   ]
  },
  {
   "cell_type": "code",
   "execution_count": 16,
   "metadata": {},
   "outputs": [
    {
     "data": {
      "text/plain": [
       "[2, 6, 7, 13, 37]"
      ]
     },
     "execution_count": 16,
     "metadata": {},
     "output_type": "execute_result"
    }
   ],
   "source": [
    "user = dataset['visitorid'].unique().tolist()\n",
    "user[:5]"
   ]
  },
  {
   "cell_type": "code",
   "execution_count": 17,
   "metadata": {},
   "outputs": [
    {
     "data": {
      "text/plain": [
       "[2, 6, 7, 13, 37]"
      ]
     },
     "execution_count": 17,
     "metadata": {},
     "output_type": "execute_result"
    }
   ],
   "source": [
    "user = query_data['visitorid'].unique().tolist()\n",
    "user[:5]"
   ]
  },
  {
   "cell_type": "code",
   "execution_count": 18,
   "metadata": {},
   "outputs": [],
   "source": [
    "recommend_data = PredictModel(model_lightfm, dataset, user[:500])"
   ]
  },
  {
   "cell_type": "code",
   "execution_count": 19,
   "metadata": {},
   "outputs": [
    {
     "data": {
      "text/html": [
       "<div>\n",
       "<style scoped>\n",
       "    .dataframe tbody tr th:only-of-type {\n",
       "        vertical-align: middle;\n",
       "    }\n",
       "\n",
       "    .dataframe tbody tr th {\n",
       "        vertical-align: top;\n",
       "    }\n",
       "\n",
       "    .dataframe thead th {\n",
       "        text-align: right;\n",
       "    }\n",
       "</style>\n",
       "<table border=\"1\" class=\"dataframe\">\n",
       "  <thead>\n",
       "    <tr style=\"text-align: right;\">\n",
       "      <th></th>\n",
       "      <th>visitorid</th>\n",
       "      <th>original item</th>\n",
       "      <th>recommend item</th>\n",
       "      <th>item same</th>\n",
       "      <th>length</th>\n",
       "      <th>one hot</th>\n",
       "    </tr>\n",
       "  </thead>\n",
       "  <tbody>\n",
       "    <tr>\n",
       "      <th>0</th>\n",
       "      <td>2</td>\n",
       "      <td>[216305]</td>\n",
       "      <td>[219512, 461809, 309778, 303236, 234255]</td>\n",
       "      <td>[]</td>\n",
       "      <td>0</td>\n",
       "      <td>0</td>\n",
       "    </tr>\n",
       "    <tr>\n",
       "      <th>1</th>\n",
       "      <td>6</td>\n",
       "      <td>[65273]</td>\n",
       "      <td>[219512, 461809, 309778, 303236, 234255]</td>\n",
       "      <td>[]</td>\n",
       "      <td>0</td>\n",
       "      <td>0</td>\n",
       "    </tr>\n",
       "    <tr>\n",
       "      <th>2</th>\n",
       "      <td>7</td>\n",
       "      <td>[139394]</td>\n",
       "      <td>[219512, 461809, 303236, 309778, 234255]</td>\n",
       "      <td>[]</td>\n",
       "      <td>0</td>\n",
       "      <td>0</td>\n",
       "    </tr>\n",
       "    <tr>\n",
       "      <th>3</th>\n",
       "      <td>13</td>\n",
       "      <td>[320589]</td>\n",
       "      <td>[219512, 309778, 303236, 461809, 234255]</td>\n",
       "      <td>[]</td>\n",
       "      <td>0</td>\n",
       "      <td>0</td>\n",
       "    </tr>\n",
       "    <tr>\n",
       "      <th>4</th>\n",
       "      <td>37</td>\n",
       "      <td>[168952]</td>\n",
       "      <td>[219512, 461809, 309778, 303236, 234255]</td>\n",
       "      <td>[]</td>\n",
       "      <td>0</td>\n",
       "      <td>0</td>\n",
       "    </tr>\n",
       "  </tbody>\n",
       "</table>\n",
       "</div>"
      ],
      "text/plain": [
       "   visitorid original item                            recommend item  \\\n",
       "0          2      [216305]  [219512, 461809, 309778, 303236, 234255]   \n",
       "1          6       [65273]  [219512, 461809, 309778, 303236, 234255]   \n",
       "2          7      [139394]  [219512, 461809, 303236, 309778, 234255]   \n",
       "3         13      [320589]  [219512, 309778, 303236, 461809, 234255]   \n",
       "4         37      [168952]  [219512, 461809, 309778, 303236, 234255]   \n",
       "\n",
       "  item same  length  one hot  \n",
       "0        []       0        0  \n",
       "1        []       0        0  \n",
       "2        []       0        0  \n",
       "3        []       0        0  \n",
       "4        []       0        0  "
      ]
     },
     "execution_count": 19,
     "metadata": {},
     "output_type": "execute_result"
    }
   ],
   "source": [
    "recommend_data.head()"
   ]
  },
  {
   "cell_type": "code",
   "execution_count": 20,
   "metadata": {},
   "outputs": [
    {
     "data": {
      "text/html": [
       "<div>\n",
       "<style scoped>\n",
       "    .dataframe tbody tr th:only-of-type {\n",
       "        vertical-align: middle;\n",
       "    }\n",
       "\n",
       "    .dataframe tbody tr th {\n",
       "        vertical-align: top;\n",
       "    }\n",
       "\n",
       "    .dataframe thead th {\n",
       "        text-align: right;\n",
       "    }\n",
       "</style>\n",
       "<table border=\"1\" class=\"dataframe\">\n",
       "  <thead>\n",
       "    <tr style=\"text-align: right;\">\n",
       "      <th></th>\n",
       "      <th>visitorid</th>\n",
       "      <th>original item</th>\n",
       "      <th>recommend item</th>\n",
       "      <th>item same</th>\n",
       "      <th>length</th>\n",
       "      <th>one hot</th>\n",
       "    </tr>\n",
       "  </thead>\n",
       "  <tbody>\n",
       "    <tr>\n",
       "      <th>27</th>\n",
       "      <td>230</td>\n",
       "      <td>[234255]</td>\n",
       "      <td>[219512, 303236, 461809, 309778, 234255]</td>\n",
       "      <td>[234255]</td>\n",
       "      <td>1</td>\n",
       "      <td>1</td>\n",
       "    </tr>\n",
       "    <tr>\n",
       "      <th>56</th>\n",
       "      <td>479</td>\n",
       "      <td>[309778]</td>\n",
       "      <td>[219512, 309778, 461809, 303236, 234255]</td>\n",
       "      <td>[309778]</td>\n",
       "      <td>1</td>\n",
       "      <td>1</td>\n",
       "    </tr>\n",
       "    <tr>\n",
       "      <th>65</th>\n",
       "      <td>553</td>\n",
       "      <td>[219512]</td>\n",
       "      <td>[219512, 461809, 309778, 303236, 234255]</td>\n",
       "      <td>[219512]</td>\n",
       "      <td>1</td>\n",
       "      <td>1</td>\n",
       "    </tr>\n",
       "    <tr>\n",
       "      <th>130</th>\n",
       "      <td>1136</td>\n",
       "      <td>[206411, 211422, 309778, 405654, 412280]</td>\n",
       "      <td>[219512, 309778, 461809, 303236, 234255]</td>\n",
       "      <td>[309778]</td>\n",
       "      <td>1</td>\n",
       "      <td>1</td>\n",
       "    </tr>\n",
       "    <tr>\n",
       "      <th>367</th>\n",
       "      <td>2861</td>\n",
       "      <td>[9877, 273473, 303236, 325310]</td>\n",
       "      <td>[303236, 309778, 219512, 461809, 234255]</td>\n",
       "      <td>[303236]</td>\n",
       "      <td>1</td>\n",
       "      <td>1</td>\n",
       "    </tr>\n",
       "    <tr>\n",
       "      <th>430</th>\n",
       "      <td>3243</td>\n",
       "      <td>[219512]</td>\n",
       "      <td>[219512, 461809, 309778, 303236, 177690]</td>\n",
       "      <td>[219512]</td>\n",
       "      <td>1</td>\n",
       "      <td>1</td>\n",
       "    </tr>\n",
       "  </tbody>\n",
       "</table>\n",
       "</div>"
      ],
      "text/plain": [
       "     visitorid                             original item  \\\n",
       "27         230                                  [234255]   \n",
       "56         479                                  [309778]   \n",
       "65         553                                  [219512]   \n",
       "130       1136  [206411, 211422, 309778, 405654, 412280]   \n",
       "367       2861            [9877, 273473, 303236, 325310]   \n",
       "430       3243                                  [219512]   \n",
       "\n",
       "                               recommend item item same  length  one hot  \n",
       "27   [219512, 303236, 461809, 309778, 234255]  [234255]       1        1  \n",
       "56   [219512, 309778, 461809, 303236, 234255]  [309778]       1        1  \n",
       "65   [219512, 461809, 309778, 303236, 234255]  [219512]       1        1  \n",
       "130  [219512, 309778, 461809, 303236, 234255]  [309778]       1        1  \n",
       "367  [303236, 309778, 219512, 461809, 234255]  [303236]       1        1  \n",
       "430  [219512, 461809, 309778, 303236, 177690]  [219512]       1        1  "
      ]
     },
     "execution_count": 20,
     "metadata": {},
     "output_type": "execute_result"
    }
   ],
   "source": [
    "recommend_data[recommend_data['length'] != 0]"
   ]
  },
  {
   "cell_type": "code",
   "execution_count": 21,
   "metadata": {},
   "outputs": [
    {
     "name": "stdout",
     "output_type": "stream",
     "text": [
      "ACC :  0.012\n"
     ]
    }
   ],
   "source": [
    "print(\"ACC : \",Accuracy(recommend_data))"
   ]
  },
  {
   "cell_type": "markdown",
   "metadata": {},
   "source": [
    "+ The accuracy of 500 samples is too low\n"
   ]
  }
 ],
 "metadata": {
  "kernelspec": {
   "display_name": "Python 3",
   "language": "python",
   "name": "python3"
  },
  "language_info": {
   "codemirror_mode": {
    "name": "ipython",
    "version": 3
   },
   "file_extension": ".py",
   "mimetype": "text/x-python",
   "name": "python",
   "nbconvert_exporter": "python",
   "pygments_lexer": "ipython3",
   "version": "3.7.7"
  }
 },
 "nbformat": 4,
 "nbformat_minor": 4
}
