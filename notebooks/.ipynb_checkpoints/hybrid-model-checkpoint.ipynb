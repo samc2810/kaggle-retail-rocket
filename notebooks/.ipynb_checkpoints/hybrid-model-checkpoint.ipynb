{
 "cells": [
  {
   "cell_type": "code",
   "execution_count": 1,
   "metadata": {},
   "outputs": [
    {
     "name": "stdout",
     "output_type": "stream",
     "text": [
      "C:\\Users\\samir\\Documents\\Python Scripts\\kaggle-retail-rocket\\notebooks\n",
      "C:\\Users\\samir\\Documents\\Python Scripts\\kaggle-retail-rocket\\notebooks/../\n"
     ]
    },
    {
     "name": "stderr",
     "output_type": "stream",
     "text": [
      "C:\\Users\\samir\\anaconda3\\envs\\retail-rocket\\lib\\site-packages\\lightfm\\_lightfm_fast.py:9: UserWarning: LightFM was compiled without OpenMP support. Only a single thread will be used.\n",
      "  warnings.warn('LightFM was compiled without OpenMP support. '\n"
     ]
    }
   ],
   "source": [
    "import numpy as np # linear algebra\n",
    "import pandas as pd # data processing, CSV file I/O (e.g. pd.read_csv)\n",
    "import sys\n",
    "\n",
    "from pathlib import Path\n",
    "# Input data files are available in the \"../input/\" directory.\n",
    "# For example, running this (by clicking run or pressing Shift+Enter) will list the files in the input directory\n",
    "\n",
    "import os\n",
    "import json\n",
    "\n",
    "\n",
    "from IPython.display import display\n",
    "import pandas_profiling\n",
    "from pandas_profiling import ProfileReport\n",
    "%matplotlib inline\n",
    "\n",
    "from lightfm import LightFM\n",
    "\n",
    "\n",
    "\n",
    "print(os.path.abspath(''))\n",
    "root_path = os.path.abspath('')+\"/../\"\n",
    "print(root_path)\n",
    "data_folder = root_path+\"/data/\""
   ]
  },
  {
   "cell_type": "code",
   "execution_count": 2,
   "metadata": {},
   "outputs": [],
   "source": [
    "### read users interaction\n",
    "events = pd.read_csv(data_folder+\"events.csv\", header= 0)\n",
    "events_reduced = events.drop_duplicates()\n",
    "events_reduced = events_reduced.drop_duplicates(['visitorid', 'event', 'itemid']).copy()\n",
    "events_tupel = []\n",
    "events_final = events_reduced.sort_values(by='timestamp', ascending=True).copy()\n",
    "events_final.loc[events_final['event'] == 'view', 'rating'] = 2\n",
    "events_final.loc[events_final['event'] == 'addtocart', 'rating'] = 3\n",
    "events_final.loc[events_final['event'] == 'transaction', 'rating'] = 5\n",
    "for index, row in events_final.iterrows():\n",
    "    events_tupel.append((row['visitorid'], row['itemid'], row['rating']))\n",
    "\n"
   ]
  },
  {
   "cell_type": "code",
   "execution_count": 3,
   "metadata": {},
   "outputs": [],
   "source": [
    "def myconverter(obj):\n",
    "        if isinstance(obj, np.integer):\n",
    "            return int(obj)\n",
    "        elif isinstance(obj, np.floating):\n",
    "            return float(obj)\n",
    "        elif isinstance(obj, np.ndarray):\n",
    "            return obj.tolist()\n",
    "        elif isinstance(obj, datetime.datetime):\n",
    "            return obj.__str__()\n",
    "        \n",
    "\n",
    "with open(data_folder+'/events_rating_tupel.json', 'w') as fp:\n",
    "    json.dump(events_tupel, fp, default=myconverter, indent=2)"
   ]
  },
  {
   "cell_type": "code",
   "execution_count": null,
   "metadata": {},
   "outputs": [],
   "source": [
    "### load categories and items\n",
    "category_json = data_folder+\"cleaned_category.json\"\n",
    "cleaned_category = None\n",
    "with open(category_json) as json_file:\n",
    "    cleaned_category = json.load(json_file)\n",
    "    \n",
    "len(cleaned_category) "
   ]
  },
  {
   "cell_type": "code",
   "execution_count": null,
   "metadata": {},
   "outputs": [],
   "source": [
    "items_json = data_folder+\"cleaned_items_indent.json\"\n",
    "cleaned_items = None\n",
    "with open(items_json) as json_file:\n",
    "    cleaned_items = json.load(json_file)\n",
    "    \n",
    "len(cleaned_items)"
   ]
  }
 ],
 "metadata": {
  "kernelspec": {
   "display_name": "Python 3",
   "language": "python",
   "name": "python3"
  },
  "language_info": {
   "codemirror_mode": {
    "name": "ipython",
    "version": 3
   },
   "file_extension": ".py",
   "mimetype": "text/x-python",
   "name": "python",
   "nbconvert_exporter": "python",
   "pygments_lexer": "ipython3",
   "version": "3.7.7"
  }
 },
 "nbformat": 4,
 "nbformat_minor": 4
}
