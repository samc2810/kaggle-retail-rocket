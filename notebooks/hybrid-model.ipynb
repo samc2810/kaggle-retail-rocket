{
 "cells": [
  {
   "cell_type": "code",
   "execution_count": 1,
   "metadata": {},
   "outputs": [
    {
     "name": "stdout",
     "output_type": "stream",
     "text": [
      "C:\\Users\\samir\\Documents\\Python Scripts\\kaggle-retail-rocket\\notebooks\n",
      "C:\\Users\\samir\\Documents\\Python Scripts\\kaggle-retail-rocket\\notebooks/../\n"
     ]
    },
    {
     "name": "stderr",
     "output_type": "stream",
     "text": [
      "C:\\Users\\samir\\anaconda3\\envs\\retail-rocket\\lib\\site-packages\\lightfm\\_lightfm_fast.py:9: UserWarning: LightFM was compiled without OpenMP support. Only a single thread will be used.\n",
      "  warnings.warn('LightFM was compiled without OpenMP support. '\n"
     ]
    }
   ],
   "source": [
    "import numpy as np # linear algebra\n",
    "import pandas as pd # data processing, CSV file I/O (e.g. pd.read_csv)\n",
    "import sys\n",
    "\n",
    "from pathlib import Path\n",
    "# Input data files are available in the \"../input/\" directory.\n",
    "# For example, running this (by clicking run or pressing Shift+Enter) will list the files in the input directory\n",
    "\n",
    "import os\n",
    "import json\n",
    "\n",
    "\n",
    "from IPython.display import display\n",
    "import pandas_profiling\n",
    "from pandas_profiling import ProfileReport\n",
    "%matplotlib inline\n",
    "\n",
    "from lightfm import LightFM\n",
    "\n",
    "\n",
    "\n",
    "print(os.path.abspath(''))\n",
    "root_path = os.path.abspath('')+\"/../\"\n",
    "print(root_path)\n",
    "data_folder = root_path+\"/data/\""
   ]
  },
  {
   "cell_type": "code",
   "execution_count": 2,
   "metadata": {},
   "outputs": [],
   "source": [
    "### read users interaction\n",
    "events = pd.read_csv(data_folder+\"events.csv\", header= 0)\n",
    "events_reduced = events.drop_duplicates()\n",
    "events_reduced = events_reduced.drop_duplicates(['visitorid', 'itemid'], keep='last').copy()\n",
    "events_tupel = []\n",
    "events_final = events_reduced.sort_values(by='timestamp', ascending=True).copy()\n",
    "events_final.loc[events_final['event'] == 'view', 'rating'] = 2\n",
    "events_final.loc[events_final['event'] == 'addtocart', 'rating'] = 3\n",
    "events_final.loc[events_final['event'] == 'transaction', 'rating'] = 5\n",
    "\n",
    "for index, row in events_final.iterrows():\n",
    "    events_tupel.append((row['visitorid'], row['itemid'], row['rating']))\n",
    "\n"
   ]
  },
  {
   "cell_type": "code",
   "execution_count": 3,
   "metadata": {},
   "outputs": [],
   "source": [
    "def myconverter(obj):\n",
    "        if isinstance(obj, np.integer):\n",
    "            return int(obj)\n",
    "        elif isinstance(obj, np.floating):\n",
    "            return float(obj)\n",
    "        elif isinstance(obj, np.ndarray):\n",
    "            return obj.tolist()\n",
    "        elif isinstance(obj, datetime.datetime):\n",
    "            return obj.__str__()\n",
    "        \n",
    "\n",
    "with open(data_folder+'/events_rating_tupel_1.json', 'w') as fp:\n",
    "    json.dump(events_tupel, fp, default=myconverter, indent=2)"
   ]
  },
  {
   "cell_type": "code",
   "execution_count": 4,
   "metadata": {},
   "outputs": [
    {
     "data": {
      "text/plain": [
       "1669"
      ]
     },
     "execution_count": 4,
     "metadata": {},
     "output_type": "execute_result"
    }
   ],
   "source": [
    "### load categories and items\n",
    "category_json = data_folder+\"cleaned_category.json\"\n",
    "cleaned_category = None\n",
    "with open(category_json) as json_file:\n",
    "    cleaned_category = json.load(json_file)\n",
    "    \n",
    "len(cleaned_category) "
   ]
  },
  {
   "cell_type": "code",
   "execution_count": 5,
   "metadata": {},
   "outputs": [
    {
     "data": {
      "text/plain": [
       "417053"
      ]
     },
     "execution_count": 5,
     "metadata": {},
     "output_type": "execute_result"
    }
   ],
   "source": [
    "items_json = data_folder+\"cleaned_items_indent.json\"\n",
    "cleaned_items = None\n",
    "with open(items_json) as json_file:\n",
    "    cleaned_items = json.load(json_file)\n",
    "    \n",
    "len(cleaned_items)"
   ]
  },
  {
   "cell_type": "code",
   "execution_count": 6,
   "metadata": {},
   "outputs": [
    {
     "name": "stdout",
     "output_type": "stream",
     "text": [
      "417053\n"
     ]
    }
   ],
   "source": [
    "items_array = [] #cleaned_items.values()\n",
    "\n",
    "for item_id in cleaned_items:\n",
    "    item_obj = cleaned_items[item_id]\n",
    "    item = dict()\n",
    "    categoryid = \"_\"+str(item_obj['property_categoryid'])\n",
    "    #print(cleaned_category[categoryid])\n",
    "    #print(categoryid)\n",
    "    category = None \n",
    "    if categoryid in cleaned_category:\n",
    "        category = cleaned_category[categoryid]\n",
    "        #print(category)\n",
    "    #item = cleaned_items[item_id]\n",
    "    item['item_id'] = item_id\n",
    "    item['property_790'] = item_obj['property_790']\n",
    "    if category is not None:\n",
    "        paths = category['path'].split('/')\n",
    "        size = len(paths)\n",
    "        item['cat_1'] = \"_\"+paths[0] if size > 0 else None  \n",
    "        item['cat_2'] = \"_\"+paths[1] if size > 1 else None\n",
    "        item['cat_3'] = \"_\"+paths[2] if size > 2 else None\n",
    "        \n",
    "    items_array.append(item)\n",
    "    #break\n",
    "\n",
    "\n",
    "print(len(items_array))\n",
    "#print(items_array[0])\n",
    "items = pd.DataFrame(items_array)\n",
    "#items = items[items.columns.drop(list(items.filter(regex='_ts_')))]\n"
   ]
  },
  {
   "cell_type": "code",
   "execution_count": 7,
   "metadata": {},
   "outputs": [
    {
     "data": {
      "text/html": [
       "<div>\n",
       "<style scoped>\n",
       "    .dataframe tbody tr th:only-of-type {\n",
       "        vertical-align: middle;\n",
       "    }\n",
       "\n",
       "    .dataframe tbody tr th {\n",
       "        vertical-align: top;\n",
       "    }\n",
       "\n",
       "    .dataframe thead th {\n",
       "        text-align: right;\n",
       "    }\n",
       "</style>\n",
       "<table border=\"1\" class=\"dataframe\">\n",
       "  <thead>\n",
       "    <tr style=\"text-align: right;\">\n",
       "      <th></th>\n",
       "      <th>item_id</th>\n",
       "      <th>property_790</th>\n",
       "      <th>cat_1</th>\n",
       "      <th>cat_2</th>\n",
       "      <th>cat_3</th>\n",
       "    </tr>\n",
       "  </thead>\n",
       "  <tbody>\n",
       "    <tr>\n",
       "      <th>0</th>\n",
       "      <td>460429</td>\n",
       "      <td>378360.0</td>\n",
       "      <td>_395</td>\n",
       "      <td>_1278</td>\n",
       "      <td>_1338</td>\n",
       "    </tr>\n",
       "    <tr>\n",
       "      <th>1</th>\n",
       "      <td>206783</td>\n",
       "      <td>179760.0</td>\n",
       "      <td>_1600</td>\n",
       "      <td>_872</td>\n",
       "      <td>_1313</td>\n",
       "    </tr>\n",
       "    <tr>\n",
       "      <th>2</th>\n",
       "      <td>395014</td>\n",
       "      <td>172200.0</td>\n",
       "      <td>_140</td>\n",
       "      <td>_1519</td>\n",
       "      <td>_1329</td>\n",
       "    </tr>\n",
       "    <tr>\n",
       "      <th>3</th>\n",
       "      <td>59481</td>\n",
       "      <td>12720.0</td>\n",
       "      <td>_395</td>\n",
       "      <td>_1257</td>\n",
       "      <td>_256</td>\n",
       "    </tr>\n",
       "    <tr>\n",
       "      <th>4</th>\n",
       "      <td>156781</td>\n",
       "      <td>32520.0</td>\n",
       "      <td>_1532</td>\n",
       "      <td>_500</td>\n",
       "      <td>_1012</td>\n",
       "    </tr>\n",
       "    <tr>\n",
       "      <th>5</th>\n",
       "      <td>285026</td>\n",
       "      <td>70560.0</td>\n",
       "      <td>_1224</td>\n",
       "      <td>_871</td>\n",
       "      <td>_624</td>\n",
       "    </tr>\n",
       "    <tr>\n",
       "      <th>6</th>\n",
       "      <td>89534</td>\n",
       "      <td>20280.0</td>\n",
       "      <td>_431</td>\n",
       "      <td>_362</td>\n",
       "      <td>_1577</td>\n",
       "    </tr>\n",
       "    <tr>\n",
       "      <th>7</th>\n",
       "      <td>264312</td>\n",
       "      <td>29040.0</td>\n",
       "      <td>_140</td>\n",
       "      <td>_61</td>\n",
       "      <td>_323</td>\n",
       "    </tr>\n",
       "    <tr>\n",
       "      <th>8</th>\n",
       "      <td>229370</td>\n",
       "      <td>889056.0</td>\n",
       "      <td>_250</td>\n",
       "      <td>_1335</td>\n",
       "      <td>_485</td>\n",
       "    </tr>\n",
       "    <tr>\n",
       "      <th>9</th>\n",
       "      <td>98113</td>\n",
       "      <td>108240.0</td>\n",
       "      <td>_1532</td>\n",
       "      <td>_500</td>\n",
       "      <td>_48</td>\n",
       "    </tr>\n",
       "  </tbody>\n",
       "</table>\n",
       "</div>"
      ],
      "text/plain": [
       "  item_id  property_790  cat_1  cat_2  cat_3\n",
       "0  460429      378360.0   _395  _1278  _1338\n",
       "1  206783      179760.0  _1600   _872  _1313\n",
       "2  395014      172200.0   _140  _1519  _1329\n",
       "3   59481       12720.0   _395  _1257   _256\n",
       "4  156781       32520.0  _1532   _500  _1012\n",
       "5  285026       70560.0  _1224   _871   _624\n",
       "6   89534       20280.0   _431   _362  _1577\n",
       "7  264312       29040.0   _140    _61   _323\n",
       "8  229370      889056.0   _250  _1335   _485\n",
       "9   98113      108240.0  _1532   _500    _48"
      ]
     },
     "execution_count": 7,
     "metadata": {},
     "output_type": "execute_result"
    }
   ],
   "source": [
    "items.head(10)"
   ]
  },
  {
   "cell_type": "code",
   "execution_count": 8,
   "metadata": {},
   "outputs": [],
   "source": [
    "events = pd.read_csv(data_folder+\"events.csv\", header= 0)\n",
    "events_reduced = events.drop_duplicates()\n",
    "events_reduced = events_reduced.drop_duplicates(['visitorid', 'event', 'itemid']).copy()\n",
    "events_final = events_reduced.sort_values(by='timestamp', ascending=True).copy()\n",
    "events_final.loc[events_final['event'] == 'view', 'rating'] = 2\n",
    "events_final.loc[events_final['event'] == 'addtocart', 'rating'] = 3\n",
    "events_final.loc[events_final['event'] == 'transaction', 'rating'] = 5\n"
   ]
  },
  {
   "cell_type": "code",
   "execution_count": 20,
   "metadata": {},
   "outputs": [],
   "source": [
    "events_tupel = []\n",
    "with open(data_folder+'/events_rating_tupel_1.json', 'r') as fp:\n",
    "    events_tupel = json.load(fp)"
   ]
  },
  {
   "cell_type": "code",
   "execution_count": 21,
   "metadata": {},
   "outputs": [
    {
     "data": {
      "text/plain": [
       "(1407580, 235061)"
      ]
     },
     "execution_count": 21,
     "metadata": {},
     "output_type": "execute_result"
    }
   ],
   "source": [
    "#### buillding user-item matrix\n",
    "from lightfm.data import Dataset\n",
    "\n",
    "feature_keys = ['cat_1', 'cat_2', 'cat_3', 'property_790'];\n",
    "\n",
    "dataset = Dataset(user_identity_features=False, item_identity_features=True)\n",
    "dataset.fit(events_final['visitorid'].to_numpy(), events_final['itemid'].to_numpy(), item_features=feature_keys)\n",
    "\n",
    "dataset.interactions_shape()"
   ]
  },
  {
   "cell_type": "code",
   "execution_count": 22,
   "metadata": {},
   "outputs": [
    {
     "name": "stdout",
     "output_type": "stream",
     "text": [
      "96533\n",
      "10725\n"
     ]
    }
   ],
   "source": [
    "\n",
    "start_index = int(0.2*len(events_tupel))\n",
    "end_index = int(0.25*len(events_tupel))\n",
    "events_tupel = events_tupel[start_index:end_index]\n",
    "\n",
    "total_events = len(events_tupel)\n",
    "\n",
    "train_amt = int(0.9*total_events)\n",
    "events_train = events_tupel[:train_amt]\n",
    "events_test = events_tupel[(train_amt+1):]\n",
    "\n",
    "print(len(events_train))\n",
    "print(len(events_test))"
   ]
  },
  {
   "cell_type": "code",
   "execution_count": 23,
   "metadata": {},
   "outputs": [],
   "source": [
    "(interactions_train, weights_train) = dataset.build_interactions(events_train)\n",
    "(interactions_test, weights_test) = dataset.build_interactions(events_test)\n",
    "\n",
    "\n"
   ]
  },
  {
   "cell_type": "code",
   "execution_count": 24,
   "metadata": {},
   "outputs": [],
   "source": [
    "#### build features\n",
    "item_features_tupel = []\n",
    "items_missing = []\n",
    "(item_mapping, user_mapping, item_features_mapping, user_features_mapping) = dataset.mapping()\n",
    "for index, row in items.iterrows():\n",
    "    item = row['item_id']\n",
    "    row_features = []\n",
    "    for attr in feature_keys:\n",
    "        row_features.append(row[attr])\n",
    "        \n",
    "    if item not in item_mapping:\n",
    "        items_missing.append([item, row_features])\n",
    "    else:\n",
    "        item_features_tupel.append([item, row_features])\n",
    "        \n",
    "item_features = dataset.build_item_features(item_features_tupel)\n"
   ]
  },
  {
   "cell_type": "code",
   "execution_count": 25,
   "metadata": {},
   "outputs": [
    {
     "name": "stdout",
     "output_type": "stream",
     "text": [
      "Wall time: 1.94 s\n"
     ]
    },
    {
     "data": {
      "text/plain": [
       "<lightfm.lightfm.LightFM at 0x2990b27e488>"
      ]
     },
     "execution_count": 25,
     "metadata": {},
     "output_type": "execute_result"
    }
   ],
   "source": [
    "\n",
    "from lightfm import LightFM\n",
    "\n",
    "model_bpr = LightFM(loss='bpr')\n",
    "%time model_bpr.fit(interactions_train, item_features=item_features, epochs=4)"
   ]
  },
  {
   "cell_type": "code",
   "execution_count": 26,
   "metadata": {},
   "outputs": [
    {
     "name": "stdout",
     "output_type": "stream",
     "text": [
      "Wall time: 2.11 s\n"
     ]
    },
    {
     "data": {
      "text/plain": [
       "<lightfm.lightfm.LightFM at 0x299efa84088>"
      ]
     },
     "execution_count": 26,
     "metadata": {},
     "output_type": "execute_result"
    }
   ],
   "source": [
    "\n",
    "model_wrp = LightFM(loss='warp')\n",
    "%time model_wrp.fit(interactions_train, item_features=item_features, epochs=4)"
   ]
  },
  {
   "cell_type": "code",
   "execution_count": 27,
   "metadata": {},
   "outputs": [
    {
     "name": "stdout",
     "output_type": "stream",
     "text": [
      "Wall time: 16min 33s\n",
      "Collaborative filtering train AUC: 0.53377795\n"
     ]
    }
   ],
   "source": [
    "from lightfm.evaluation import auc_score\n",
    "\n",
    "# Compute and print the AUC score\n",
    "%time train_auc = auc_score(model_bpr, interactions_train, item_features=item_features).mean()\n",
    "print('Collaborative filtering train AUC: %s' % train_auc)"
   ]
  },
  {
   "cell_type": "markdown",
   "metadata": {},
   "source": [
    "\n",
    "Wall time: 16min 33s\n",
    "Collaborative filtering train AUC: 0.53377795\n"
   ]
  },
  {
   "cell_type": "code",
   "execution_count": 28,
   "metadata": {},
   "outputs": [
    {
     "name": "stdout",
     "output_type": "stream",
     "text": [
      "Wall time: 16min 17s\n",
      "Collaborative filtering train AUC: 0.95790994\n"
     ]
    }
   ],
   "source": [
    "\n",
    "# Compute and print the AUC score\n",
    "%time train_auc = auc_score(model_wrp, interactions_train, item_features=item_features).mean()\n",
    "print('Collaborative filtering train AUC: %s' % train_auc)\n",
    "\n",
    "#Wall time: 16min 17s\n",
    "# Collaborative filtering train AUC: 0.95790994"
   ]
  },
  {
   "cell_type": "markdown",
   "metadata": {},
   "source": [
    "Wall time: 17min 21s\n",
    "Collaborative filtering train AUC: 0.9586296"
   ]
  },
  {
   "cell_type": "code",
   "execution_count": 29,
   "metadata": {},
   "outputs": [
    {
     "name": "stdout",
     "output_type": "stream",
     "text": [
      "Wall time: 4min 48s\n",
      "Collaborative filtering train AUC: 0.5048117\n"
     ]
    }
   ],
   "source": [
    "\n",
    "%time train_auc = auc_score(model_bpr, interactions_test, train_interactions=interactions_train, item_features=item_features).mean()\n",
    "print('Collaborative filtering train AUC: %s' % train_auc)\n",
    "#Wall time: 4min 48s\n",
    "# Collaborative filtering train AUC: 0.5048117"
   ]
  },
  {
   "cell_type": "code",
   "execution_count": 30,
   "metadata": {},
   "outputs": [
    {
     "name": "stdout",
     "output_type": "stream",
     "text": [
      "Wall time: 1min 45s\n",
      "Collaborative filtering train AUC: 0.75068545\n"
     ]
    }
   ],
   "source": [
    "\n",
    "%time train_auc = auc_score(model_wrp, interactions_test, train_interactions=interactions_train, item_features=item_features).mean()\n",
    "print('Collaborative filtering train AUC: %s' % train_auc)\n",
    "\n",
    "#Wall time: 1min 45s\n",
    "#Collaborative filtering train AUC: 0.75068545"
   ]
  },
  {
   "cell_type": "code",
   "execution_count": 31,
   "metadata": {},
   "outputs": [
    {
     "name": "stdout",
     "output_type": "stream",
     "text": [
      "Wall time: 23min 36s\n",
      "Collaborative filtering train Precision: 0.00016036959\n",
      "Wall time: 2min 51s\n",
      "Collaborative filtering test Precision: 6.333925e-05\n"
     ]
    }
   ],
   "source": [
    "from lightfm.evaluation import precision_at_k as precision\n",
    "\n",
    "# Compute and print the AUC score\n",
    "%time train_auc = precision(model_bpr, interactions_train, item_features=item_features).mean()\n",
    "print('Collaborative filtering train Precision: %s' % train_auc)\n",
    "\n",
    "\n",
    "%time train_auc = precision(model_bpr, interactions_test, train_interactions=interactions_train, item_features=item_features).mean()\n",
    "print('Collaborative filtering test Precision: %s' % train_auc)\n",
    "\n",
    "#Wall time: 23min 36s\n",
    "#Collaborative filtering train Precision: 0.00016036959\n",
    "#Wall time: 2min 51s\n",
    "#Collaborative filtering test Precision: 6.333925e-05"
   ]
  },
  {
   "cell_type": "code",
   "execution_count": 32,
   "metadata": {},
   "outputs": [
    {
     "name": "stdout",
     "output_type": "stream",
     "text": [
      "Wall time: 1h 6min 5s\n",
      "Collaborative filtering train Precision: 0.012636829\n",
      "Wall time: 3min 7s\n",
      "Collaborative filtering test Precision: 0.0010767672\n"
     ]
    }
   ],
   "source": [
    "\n",
    "%time train_auc = precision(model_wrp, interactions_train, item_features=item_features).mean()\n",
    "print('Collaborative filtering train Precision: %s' % train_auc)\n",
    "\n",
    "\n",
    "%time train_auc = precision(model_wrp, interactions_test, train_interactions=interactions_train, item_features=item_features).mean()\n",
    "print('Collaborative filtering test Precision: %s' % train_auc)\n",
    "\n",
    "#Wall time: 1h 6min 5s\n",
    "#Collaborative filtering train Precision: 0.012636829\n",
    "#Wall time: 3min 7s\n",
    "#Collaborative filtering test Precision: 0.0010767672"
   ]
  },
  {
   "cell_type": "code",
   "execution_count": 34,
   "metadata": {},
   "outputs": [
    {
     "name": "stdout",
     "output_type": "stream",
     "text": [
      "Wall time: 30min 6s\n",
      "Collaborative filtering train Recall: 0.0010554820614362384\n",
      "Wall time: 1min 48s\n",
      "Collaborative filtering test Recall: 0.00032336351392796655\n"
     ]
    }
   ],
   "source": [
    "from lightfm.evaluation import recall_at_k as recall\n",
    "\n",
    "%time train_auc = recall(model_bpr, interactions_train, item_features=item_features).mean()\n",
    "print('Collaborative filtering train Recall: %s' % train_auc)\n",
    "\n",
    "\n",
    "%time train_auc = recall(model_bpr, interactions_test, train_interactions=interactions_train, item_features=item_features).mean()\n",
    "print('Collaborative filtering test Recall: %s' % train_auc)\n",
    "\n",
    "#Wall time: 30min 6s\n",
    "#Collaborative filtering train Recall: 0.0010554820614362384\n",
    "#Wall time: 1min 48s\n",
    "#Collaborative filtering test Recall: 0.00032336351392796655"
   ]
  },
  {
   "cell_type": "code",
   "execution_count": 35,
   "metadata": {},
   "outputs": [
    {
     "name": "stdout",
     "output_type": "stream",
     "text": [
      "Wall time: 13min 43s\n",
      "Collaborative filtering train Recall: 0.09859760712373451\n",
      "Wall time: 1min 31s\n",
      "Collaborative filtering test Recall: 0.008779287437284589\n"
     ]
    }
   ],
   "source": [
    "\n",
    "%time train_auc = recall(model_wrp, interactions_train, item_features=item_features).mean()\n",
    "print('Collaborative filtering train Recall: %s' % train_auc)\n",
    "\n",
    "\n",
    "%time train_auc = recall(model_wrp, interactions_test, train_interactions=interactions_train, item_features=item_features).mean()\n",
    "print('Collaborative filtering test Recall: %s' % train_auc)\n",
    "\n",
    "#Wall time: 13min 43s\n",
    "#Collaborative filtering train Recall: 0.09859760712373451\n",
    "#Wall time: 1min 31s\n",
    "#Collaborative filtering test Recall: 0.008779287437284589"
   ]
  },
  {
   "cell_type": "code",
   "execution_count": 107,
   "metadata": {},
   "outputs": [
    {
     "name": "stdout",
     "output_type": "stream",
     "text": [
      "[('40', 1.6951541900634766), ('2929', 1.6887784004211426), ('104', 1.6225441694259644), ('411', 1.6115334033966064), ('1132', 1.575950026512146), ('2256', 1.5595812797546387), ('273', 1.5511711835861206), ('2012', 1.5461903810501099), ('55589', 1.488364815711975), ('6627', 1.4880174398422241)]\n",
      "{'40': {'item': '40', 'score': 1.6951541900634766}, '2929': {'item': '2929', 'score': 1.6887784004211426}, '104': {'item': '104', 'score': 1.6225441694259644}, '411': {'item': '411', 'score': 1.6115334033966064}, '1132': {'item': '1132', 'score': 1.575950026512146}, '2256': {'item': '2256', 'score': 1.5595812797546387}, '273': {'item': '273', 'score': 1.5511711835861206}, '2012': {'item': '2012', 'score': 1.5461903810501099}, '55589': {'item': '55589', 'score': 1.488364815711975}, '6627': {'item': '6627', 'score': 1.4880174398422241}}\n"
     ]
    }
   ],
   "source": [
    "\n",
    "#print(interactions_test.tocoo())\n",
    "user_purchases = dict()\n",
    "#for row in interactions_test.tocsc():\n",
    "    \n",
    "#for row in weights_test:\n",
    "    #(user, item) = row[0]\n",
    "    \n",
    "    #rating = row[1]\n",
    "    #if rating == 5:\n",
    "    #    if not user in user_purchases:\n",
    "    #        user_purchases[user] = []\n",
    "    #    user_purchases[user].append(item)\n",
    "        \n",
    "    \n",
    "##print(user_purchases)\n",
    "    #\n",
    "#print([\"377133\"].shape)\n",
    "\n",
    "def retriev_top_ten(model, user, items, predictions, item_features):\n",
    "    predictions = model.predict(user, items, item_features=item_features)\n",
    "    item_dict = dict()\n",
    "    for key in range(0, len(predictions)):\n",
    "        pred = predictions[key]\n",
    "        item = items[key]\n",
    "        item_dict[str(item)] = pred\n",
    "        \n",
    "    #print(item_dict)\n",
    "    sort_items = sorted(item_dict.items(), key=lambda x: x[1], reverse=True)\n",
    "    #tt = (sorted(item_dict.items(), key = lambda kv:(kv[1], kv[0])))  \n",
    "    result = dict()\n",
    "    #sort_keys = sort_items.keys()\n",
    "    sort_keys = sort_items[:10]\n",
    "    #print(sort_keys)\n",
    "    for i in range(0, len(sort_keys)):\n",
    "        (_id, _score) = sort_keys[i]\n",
    "        result[_id] = {'item':_id, \"score\":_score}\n",
    "        \n",
    "    return result\n",
    "        \n",
    "n_items = np.arange(235061)\n",
    "result = retriev_top_ten(model_wrp, 88, n_items, predictions, item_features=item_features)\n",
    "print(result)  \n",
    "\n",
    "\n",
    "#model_wrp.predict(\"438841\", [\"377133\"], item_features=item_features)\n"
   ]
  },
  {
   "cell_type": "code",
   "execution_count": null,
   "metadata": {},
   "outputs": [],
   "source": []
  }
 ],
 "metadata": {
  "kernelspec": {
   "display_name": "Python 3",
   "language": "python",
   "name": "python3"
  },
  "language_info": {
   "codemirror_mode": {
    "name": "ipython",
    "version": 3
   },
   "file_extension": ".py",
   "mimetype": "text/x-python",
   "name": "python",
   "nbconvert_exporter": "python",
   "pygments_lexer": "ipython3",
   "version": "3.7.7"
  }
 },
 "nbformat": 4,
 "nbformat_minor": 4
}
