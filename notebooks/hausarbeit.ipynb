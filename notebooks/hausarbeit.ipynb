{
 "cells": [
  {
   "cell_type": "code",
   "execution_count": 1,
   "metadata": {},
   "outputs": [
    {
     "name": "stdout",
     "output_type": "stream",
     "text": [
      "C:\\Users\\samir\\Documents\\Python Scripts\\kaggle-retail-rocket\\notebooks\n",
      "C:\\Users\\samir\\Documents\\Python Scripts\\kaggle-retail-rocket\\notebooks/../\n",
      "['.ipynb_checkpoints', 'category_tree.csv', 'cleaned_category.json', 'cleaned_items.json', 'cleaned_items.json.cp', 'cleaned_items_indent.json', 'events.csv', 'events_rating_tupel.json', 'events_rating_tupel_1.json', 'item_properties_part1.csv', 'item_properties_part2.csv']\n"
     ]
    }
   ],
   "source": [
    "import numpy as np # linear algebra\n",
    "import pandas as pd # data processing, CSV file I/O (e.g. pd.read_csv)\n",
    "import sys\n",
    "\n",
    "from pathlib import Path\n",
    "# Input data files are available in the \"../input/\" directory.\n",
    "# For example, running this (by clicking run or pressing Shift+Enter) will list the files in the input directory\n",
    "\n",
    "import os\n",
    "\n",
    "print(os.path.abspath(''))\n",
    "root_path = os.path.abspath('')+\"/../\"\n",
    "print(root_path)\n",
    "data_folder = root_path+\"/data/\"\n",
    "print(os.listdir(data_folder))\n",
    "\n",
    "from IPython.display import display\n",
    "import pandas_profiling\n",
    "from pandas_profiling import ProfileReport\n",
    "%matplotlib inline\n",
    "\n",
    "\n"
   ]
  },
  {
   "cell_type": "markdown",
   "metadata": {},
   "source": [
    "# Data Understanding\n"
   ]
  },
  {
   "cell_type": "code",
   "execution_count": 2,
   "metadata": {},
   "outputs": [],
   "source": [
    "# Loading the files\n",
    "category_tree = pd.read_csv(data_folder+\"category_tree.csv\", header= 0)\n",
    "events = pd.read_csv(data_folder+\"events.csv\", header= 0)\n",
    "item_properties_part1 = pd.read_csv(data_folder+\"item_properties_part1.csv\", header= 0)\n",
    "item_properties_part2 = pd.read_csv(data_folder+\"item_properties_part2.csv\", header= 0)\n",
    "item_properties = pd.concat([item_properties_part1, item_properties_part2])"
   ]
  },
  {
   "cell_type": "markdown",
   "metadata": {},
   "source": [
    "## Viewing the structure of the files\n",
    "\n",
    "* Events file\n",
    "* Categories\n",
    "* Items\n",
    "\n",
    "### Events\n",
    "* Types?\n",
    "* Distribution (Share of each events)\n",
    "* Frequent buyers?\n",
    "\n",
    "### Categories\n",
    "* Tree structure\n",
    "\n",
    "### pandas profile of items\n",
    "* Data Types?\n",
    "* Number of Features?\n",
    "* Relevant Features?"
   ]
  },
  {
   "cell_type": "code",
   "execution_count": 3,
   "metadata": {},
   "outputs": [
    {
     "data": {
      "text/html": [
       "<div>\n",
       "<style scoped>\n",
       "    .dataframe tbody tr th:only-of-type {\n",
       "        vertical-align: middle;\n",
       "    }\n",
       "\n",
       "    .dataframe tbody tr th {\n",
       "        vertical-align: top;\n",
       "    }\n",
       "\n",
       "    .dataframe thead th {\n",
       "        text-align: right;\n",
       "    }\n",
       "</style>\n",
       "<table border=\"1\" class=\"dataframe\">\n",
       "  <thead>\n",
       "    <tr style=\"text-align: right;\">\n",
       "      <th></th>\n",
       "      <th>timestamp</th>\n",
       "      <th>visitorid</th>\n",
       "      <th>event</th>\n",
       "      <th>itemid</th>\n",
       "      <th>transactionid</th>\n",
       "    </tr>\n",
       "  </thead>\n",
       "  <tbody>\n",
       "    <tr>\n",
       "      <th>0</th>\n",
       "      <td>1433221332117</td>\n",
       "      <td>257597</td>\n",
       "      <td>view</td>\n",
       "      <td>355908</td>\n",
       "      <td>NaN</td>\n",
       "    </tr>\n",
       "    <tr>\n",
       "      <th>1</th>\n",
       "      <td>1433224214164</td>\n",
       "      <td>992329</td>\n",
       "      <td>view</td>\n",
       "      <td>248676</td>\n",
       "      <td>NaN</td>\n",
       "    </tr>\n",
       "    <tr>\n",
       "      <th>2</th>\n",
       "      <td>1433221999827</td>\n",
       "      <td>111016</td>\n",
       "      <td>view</td>\n",
       "      <td>318965</td>\n",
       "      <td>NaN</td>\n",
       "    </tr>\n",
       "    <tr>\n",
       "      <th>3</th>\n",
       "      <td>1433221955914</td>\n",
       "      <td>483717</td>\n",
       "      <td>view</td>\n",
       "      <td>253185</td>\n",
       "      <td>NaN</td>\n",
       "    </tr>\n",
       "    <tr>\n",
       "      <th>4</th>\n",
       "      <td>1433221337106</td>\n",
       "      <td>951259</td>\n",
       "      <td>view</td>\n",
       "      <td>367447</td>\n",
       "      <td>NaN</td>\n",
       "    </tr>\n",
       "  </tbody>\n",
       "</table>\n",
       "</div>"
      ],
      "text/plain": [
       "       timestamp  visitorid event  itemid  transactionid\n",
       "0  1433221332117     257597  view  355908            NaN\n",
       "1  1433224214164     992329  view  248676            NaN\n",
       "2  1433221999827     111016  view  318965            NaN\n",
       "3  1433221955914     483717  view  253185            NaN\n",
       "4  1433221337106     951259  view  367447            NaN"
      ]
     },
     "metadata": {},
     "output_type": "display_data"
    }
   ],
   "source": [
    "# Events file\n",
    "display(events.head())\n",
    "# use pandas profiling\n",
    "#events.profile_report(correlations=None)\n",
    "\n",
    "#ev_profile.to_html('ev_profile.html')\n",
    "\n"
   ]
  },
  {
   "cell_type": "markdown",
   "metadata": {},
   "source": [
    "### learnings\n",
    "* only 0.8% transactions\n",
    "* category to rating (weights? view < addtocart < transaction)\n",
    "* conversion rate?\n",
    "* what about users with only one \"view\"? or with no addtocart?\n",
    "* calculate users and number of each events?"
   ]
  },
  {
   "cell_type": "code",
   "execution_count": 4,
   "metadata": {},
   "outputs": [
    {
     "name": "stdout",
     "output_type": "stream",
     "text": [
      "{'parent': -1, 'path': ''}\n"
     ]
    }
   ],
   "source": [
    "# Categories\n",
    "#category_tree.profile_report()\n",
    "\n",
    "\n",
    "\n",
    "category_tree = category_tree.fillna(-1).astype('int')\n",
    "category_dict = dict()\n",
    "for index, row in category_tree.iterrows():\n",
    "    parentid = row['parentid']\n",
    "    if np.isnan(parentid):\n",
    "        parentid = None \n",
    "    category_dict[row['categoryid']] = {'parent':parentid , 'path':''}\n",
    "\n",
    "print(category_dict[395])\n",
    "parents = set(category_tree['parentid'].array)\n",
    "category = set(category_tree['categoryid'].array)\n",
    "\n",
    "category_lowest = category\n",
    "\n",
    "def tree_to_flat(categories, category_id, path=\"\"):\n",
    "    parent = -1\n",
    "    if category_id in categories:\n",
    "        parent = categories[category_id]['parent']\n",
    "    path = str(int(category_id)) + \"/\" + path\n",
    "    \n",
    "    if (not parent is None) and parent >= 0 :\n",
    "        path = tree_to_flat(categories, parent, path)        \n",
    "    return path\n",
    "\n",
    "#for root_id in root_parents['categoryid']:\n",
    "#    cat_path = tree_to_flat(category_tree, root_id)\n"
   ]
  },
  {
   "cell_type": "code",
   "execution_count": 5,
   "metadata": {},
   "outputs": [
    {
     "data": {
      "text/html": [
       "<div>\n",
       "<style scoped>\n",
       "    .dataframe tbody tr th:only-of-type {\n",
       "        vertical-align: middle;\n",
       "    }\n",
       "\n",
       "    .dataframe tbody tr th {\n",
       "        vertical-align: top;\n",
       "    }\n",
       "\n",
       "    .dataframe thead th {\n",
       "        text-align: right;\n",
       "    }\n",
       "</style>\n",
       "<table border=\"1\" class=\"dataframe\">\n",
       "  <thead>\n",
       "    <tr style=\"text-align: right;\">\n",
       "      <th></th>\n",
       "      <th>categoryid</th>\n",
       "      <th>parentid</th>\n",
       "    </tr>\n",
       "  </thead>\n",
       "  <tbody>\n",
       "    <tr>\n",
       "      <th>0</th>\n",
       "      <td>1016</td>\n",
       "      <td>213</td>\n",
       "    </tr>\n",
       "    <tr>\n",
       "      <th>1</th>\n",
       "      <td>809</td>\n",
       "      <td>169</td>\n",
       "    </tr>\n",
       "    <tr>\n",
       "      <th>2</th>\n",
       "      <td>570</td>\n",
       "      <td>9</td>\n",
       "    </tr>\n",
       "    <tr>\n",
       "      <th>3</th>\n",
       "      <td>1691</td>\n",
       "      <td>885</td>\n",
       "    </tr>\n",
       "    <tr>\n",
       "      <th>4</th>\n",
       "      <td>536</td>\n",
       "      <td>1691</td>\n",
       "    </tr>\n",
       "  </tbody>\n",
       "</table>\n",
       "</div>"
      ],
      "text/plain": [
       "   categoryid  parentid\n",
       "0        1016       213\n",
       "1         809       169\n",
       "2         570         9\n",
       "3        1691       885\n",
       "4         536      1691"
      ]
     },
     "execution_count": 5,
     "metadata": {},
     "output_type": "execute_result"
    }
   ],
   "source": [
    "category_tree.head()\n"
   ]
  },
  {
   "cell_type": "code",
   "execution_count": 6,
   "metadata": {},
   "outputs": [
    {
     "name": "stdout",
     "output_type": "stream",
     "text": [
      "1 6\n"
     ]
    }
   ],
   "source": [
    "\n",
    "min_level = 99\n",
    "max_level = 0\n",
    "for cat in category_lowest:\n",
    "    path = tree_to_flat(category_dict, cat, \"\")\n",
    "    path = path.strip('/')\n",
    "    paths = path.split('/')\n",
    "    min_level = len(paths) < min_level and len(paths) or min_level\n",
    "    max_level = len(paths) > max_level and len(paths) or max_level\n",
    "    category_dict[cat]['path'] = path\n",
    "    \n",
    "    \n",
    "    \n",
    "\n",
    "#print(category_dict[83])\n",
    "\n",
    "\n",
    "print(min_level, max_level)\n",
    "\n",
    "#print (category_dict)"
   ]
  },
  {
   "cell_type": "code",
   "execution_count": 7,
   "metadata": {},
   "outputs": [],
   "source": [
    "# write categories to json file for easy use\n",
    "def myconverter(obj):\n",
    "        if isinstance(obj, np.integer):\n",
    "            return int(obj)\n",
    "        elif isinstance(obj, np.floating):\n",
    "            return float(obj)\n",
    "        elif isinstance(obj, np.ndarray):\n",
    "            return obj.tolist()\n",
    "        elif isinstance(obj, datetime.datetime):\n",
    "            return obj.__str__()\n",
    "\n",
    "import json\n",
    "\n",
    "cleaned_cat_dict = dict()\n",
    "#print(category_dict)\n",
    "for index in category_dict:\n",
    "    cleaned_cat_dict[\"_\"+str(int(index))] = category_dict[index]\n",
    "\n",
    "\n",
    "with open(data_folder+'/cleaned_category.json', 'w') as fp:\n",
    "    json.dump(cleaned_cat_dict, fp, default=myconverter, indent=2)"
   ]
  },
  {
   "cell_type": "markdown",
   "metadata": {},
   "source": [
    "### learnings/todos for prep\n",
    "* levels of category?\n",
    "* 1307 bottom level category\n",
    "* check on which level items are clustered?\n",
    "* can we use top 3 levels as category info? cat 761 has 2 levels only\n",
    "\n",
    "_The file with item properties (item_properties.csv) includes 20 275 902 rows, i.e. different properties, describing 417 053 unique items. File is divided into 2 files due to file size limitations. Since the property of an item can vary in time (e.g., price changes over time), every row in the file has corresponding timestamp. In other words, the file consists of concatenated snapshots for every week in the file with the behaviour data. However, if a property of an item is constant over the observed period, only a single snapshot value will be present in the file._\n"
   ]
  },
  {
   "cell_type": "code",
   "execution_count": 205,
   "metadata": {},
   "outputs": [],
   "source": [
    "# Items\n",
    "#item_properties.profile_report()\n",
    "\n"
   ]
  },
  {
   "cell_type": "code",
   "execution_count": 76,
   "metadata": {},
   "outputs": [
    {
     "data": {
      "text/html": [
       "<div>\n",
       "<style scoped>\n",
       "    .dataframe tbody tr th:only-of-type {\n",
       "        vertical-align: middle;\n",
       "    }\n",
       "\n",
       "    .dataframe tbody tr th {\n",
       "        vertical-align: top;\n",
       "    }\n",
       "\n",
       "    .dataframe thead th {\n",
       "        text-align: right;\n",
       "    }\n",
       "</style>\n",
       "<table border=\"1\" class=\"dataframe\">\n",
       "  <thead>\n",
       "    <tr style=\"text-align: right;\">\n",
       "      <th></th>\n",
       "      <th>timestamp</th>\n",
       "      <th>itemid</th>\n",
       "      <th>property</th>\n",
       "      <th>value</th>\n",
       "    </tr>\n",
       "  </thead>\n",
       "  <tbody>\n",
       "    <tr>\n",
       "      <th>0</th>\n",
       "      <td>1435460400000</td>\n",
       "      <td>460429</td>\n",
       "      <td>categoryid</td>\n",
       "      <td>1338</td>\n",
       "    </tr>\n",
       "    <tr>\n",
       "      <th>1</th>\n",
       "      <td>1441508400000</td>\n",
       "      <td>206783</td>\n",
       "      <td>888</td>\n",
       "      <td>1116713 960601 n277.200</td>\n",
       "    </tr>\n",
       "    <tr>\n",
       "      <th>2</th>\n",
       "      <td>1439089200000</td>\n",
       "      <td>395014</td>\n",
       "      <td>400</td>\n",
       "      <td>n552.000 639502 n720.000 424566</td>\n",
       "    </tr>\n",
       "    <tr>\n",
       "      <th>3</th>\n",
       "      <td>1431226800000</td>\n",
       "      <td>59481</td>\n",
       "      <td>790</td>\n",
       "      <td>n15360.000</td>\n",
       "    </tr>\n",
       "    <tr>\n",
       "      <th>4</th>\n",
       "      <td>1431831600000</td>\n",
       "      <td>156781</td>\n",
       "      <td>917</td>\n",
       "      <td>828513</td>\n",
       "    </tr>\n",
       "  </tbody>\n",
       "</table>\n",
       "</div>"
      ],
      "text/plain": [
       "       timestamp  itemid    property                            value\n",
       "0  1435460400000  460429  categoryid                             1338\n",
       "1  1441508400000  206783         888          1116713 960601 n277.200\n",
       "2  1439089200000  395014         400  n552.000 639502 n720.000 424566\n",
       "3  1431226800000   59481         790                       n15360.000\n",
       "4  1431831600000  156781         917                           828513"
      ]
     },
     "execution_count": 76,
     "metadata": {},
     "output_type": "execute_result"
    }
   ],
   "source": [
    "item_properties.head()"
   ]
  },
  {
   "cell_type": "markdown",
   "metadata": {},
   "source": [
    "# Data Preparation"
   ]
  },
  {
   "cell_type": "code",
   "execution_count": 208,
   "metadata": {},
   "outputs": [
    {
     "name": "stdout",
     "output_type": "stream",
     "text": [
      "timestamp        2756101\n",
      "visitorid        2756101\n",
      "event            2756101\n",
      "itemid           2756101\n",
      "transactionid      22457\n",
      "dtype: int64\n",
      "timestamp        2755641\n",
      "visitorid        2755641\n",
      "event            2755641\n",
      "itemid           2755641\n",
      "transactionid      22457\n",
      "dtype: int64\n"
     ]
    }
   ],
   "source": [
    "## Users\n",
    "## drop duplicates\n",
    "print(events.count())\n",
    "events_reduced = events.drop_duplicates()\n",
    "print(events_reduced.count())"
   ]
  },
  {
   "cell_type": "code",
   "execution_count": 229,
   "metadata": {},
   "outputs": [],
   "source": [
    "## items\n",
    "import re\n",
    "\n",
    "#flattening\n",
    "p = re.compile('^n([-]*\\d{1,}[\\.\\d{0,}]*)$')\n",
    "flattened_items = dict()\n",
    "for index, row in item_properties.iterrows():\n",
    "    item_id = str(row['itemid'])\n",
    "    ts = row['timestamp']\n",
    "    value = row['value'] #\n",
    "    if p.match(value):\n",
    "        value = float(p.sub(\"\\\\1\", value))\n",
    "    \n",
    "    prop = row['property']\n",
    "    key_prop = 'property_'+prop\n",
    "    key_ts = 'property_ts_'+prop\n",
    "    if not item_id in flattened_items:\n",
    "        flattened_items[item_id] = dict()\n",
    "        \n",
    "    if not key_ts in flattened_items[item_id]:\n",
    "        flattened_items[item_id][key_prop] = value\n",
    "        flattened_items[item_id][key_ts] = ts\n",
    "    else:\n",
    "        if ts > flattened_items[item_id][key_ts]:\n",
    "            flattened_items[item_id][key_prop] = value\n",
    "            flattened_items[item_id][key_ts] = ts\n",
    "    \n",
    "            \n",
    "\n",
    "#print(flattened_items)\n",
    "    \n",
    "    \n",
    "    \n",
    "    "
   ]
  },
  {
   "cell_type": "code",
   "execution_count": 230,
   "metadata": {},
   "outputs": [],
   "source": [
    "\n",
    "with open(data_folder+'/cleaned_items_indent.json', 'w') as fp:\n",
    "    json.dump(flattened_items, fp, default=myconverter, indent=2)"
   ]
  },
  {
   "cell_type": "code",
   "execution_count": null,
   "metadata": {},
   "outputs": [],
   "source": []
  },
  {
   "cell_type": "markdown",
   "metadata": {},
   "source": [
    "## Users\n",
    "* relevant Users\n",
    "* User features?\n",
    "* Item features?"
   ]
  },
  {
   "cell_type": "markdown",
   "metadata": {},
   "source": [
    "# Modelling"
   ]
  },
  {
   "cell_type": "markdown",
   "metadata": {},
   "source": [
    "## Creating the lightfm Datasets\n",
    "\n",
    "## Training"
   ]
  },
  {
   "cell_type": "markdown",
   "metadata": {},
   "source": [
    "# Evaluation"
   ]
  },
  {
   "cell_type": "code",
   "execution_count": null,
   "metadata": {},
   "outputs": [],
   "source": []
  },
  {
   "cell_type": "code",
   "execution_count": null,
   "metadata": {},
   "outputs": [],
   "source": []
  },
  {
   "cell_type": "code",
   "execution_count": null,
   "metadata": {},
   "outputs": [],
   "source": []
  }
 ],
 "metadata": {
  "kernelspec": {
   "display_name": "Python 3",
   "language": "python",
   "name": "python3"
  },
  "language_info": {
   "codemirror_mode": {
    "name": "ipython",
    "version": 3
   },
   "file_extension": ".py",
   "mimetype": "text/x-python",
   "name": "python",
   "nbconvert_exporter": "python",
   "pygments_lexer": "ipython3",
   "version": "3.7.7"
  }
 },
 "nbformat": 4,
 "nbformat_minor": 4
}
